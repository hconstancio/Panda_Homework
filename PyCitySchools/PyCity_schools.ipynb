{
 "cells": [
  {
   "cell_type": "markdown",
   "metadata": {},
   "source": [
    "# PyCity Schools Analysis"
   ]
  },
  {
   "cell_type": "markdown",
   "metadata": {},
   "source": [
    "# The district schools have more students than charter schools. For this raeson it looks like the budget is higher.\n",
    "# The charter schools show better performance based on the overall pasing rate.\n",
    "# The charter schdools appears to be more focused on math while the district is on reading.\n",
    "# The budget per student does not seems to be a factor to help in getting better performance.\n",
    "# Above based on the top performing schools and the budget p/student.\n",
    "# There is not that much fluctuation or difference in the scores between the different grades.\n"
   ]
  },
  {
   "cell_type": "code",
   "execution_count": 1,
   "metadata": {},
   "outputs": [],
   "source": [
    "# Importing Dependencies\n",
    "import pandas as pd\n",
    "import numpy as np"
   ]
  },
  {
   "cell_type": "code",
   "execution_count": 2,
   "metadata": {},
   "outputs": [],
   "source": [
    "# Assigning the path to our CSV files\n",
    "file = \"raw_data/schools_complete.csv\"\n",
    "file_2 = \"raw_data/students_complete.csv\""
   ]
  },
  {
   "cell_type": "code",
   "execution_count": 3,
   "metadata": {},
   "outputs": [
    {
     "data": {
      "text/html": [
       "<div>\n",
       "<style scoped>\n",
       "    .dataframe tbody tr th:only-of-type {\n",
       "        vertical-align: middle;\n",
       "    }\n",
       "\n",
       "    .dataframe tbody tr th {\n",
       "        vertical-align: top;\n",
       "    }\n",
       "\n",
       "    .dataframe thead th {\n",
       "        text-align: right;\n",
       "    }\n",
       "</style>\n",
       "<table border=\"1\" class=\"dataframe\">\n",
       "  <thead>\n",
       "    <tr style=\"text-align: right;\">\n",
       "      <th></th>\n",
       "      <th>School ID</th>\n",
       "      <th>name</th>\n",
       "      <th>type</th>\n",
       "      <th>size</th>\n",
       "      <th>budget</th>\n",
       "    </tr>\n",
       "  </thead>\n",
       "  <tbody>\n",
       "    <tr>\n",
       "      <th>0</th>\n",
       "      <td>0</td>\n",
       "      <td>Huang High School</td>\n",
       "      <td>District</td>\n",
       "      <td>2917</td>\n",
       "      <td>1910635</td>\n",
       "    </tr>\n",
       "    <tr>\n",
       "      <th>1</th>\n",
       "      <td>1</td>\n",
       "      <td>Figueroa High School</td>\n",
       "      <td>District</td>\n",
       "      <td>2949</td>\n",
       "      <td>1884411</td>\n",
       "    </tr>\n",
       "    <tr>\n",
       "      <th>2</th>\n",
       "      <td>2</td>\n",
       "      <td>Shelton High School</td>\n",
       "      <td>Charter</td>\n",
       "      <td>1761</td>\n",
       "      <td>1056600</td>\n",
       "    </tr>\n",
       "    <tr>\n",
       "      <th>3</th>\n",
       "      <td>3</td>\n",
       "      <td>Hernandez High School</td>\n",
       "      <td>District</td>\n",
       "      <td>4635</td>\n",
       "      <td>3022020</td>\n",
       "    </tr>\n",
       "    <tr>\n",
       "      <th>4</th>\n",
       "      <td>4</td>\n",
       "      <td>Griffin High School</td>\n",
       "      <td>Charter</td>\n",
       "      <td>1468</td>\n",
       "      <td>917500</td>\n",
       "    </tr>\n",
       "  </tbody>\n",
       "</table>\n",
       "</div>"
      ],
      "text/plain": [
       "   School ID                   name      type  size   budget\n",
       "0          0      Huang High School  District  2917  1910635\n",
       "1          1   Figueroa High School  District  2949  1884411\n",
       "2          2    Shelton High School   Charter  1761  1056600\n",
       "3          3  Hernandez High School  District  4635  3022020\n",
       "4          4    Griffin High School   Charter  1468   917500"
      ]
     },
     "execution_count": 3,
     "metadata": {},
     "output_type": "execute_result"
    }
   ],
   "source": [
    "# Read the School_Complete data into pandas\n",
    "school = pd.read_csv(file)\n",
    "school.head()"
   ]
  },
  {
   "cell_type": "code",
   "execution_count": 4,
   "metadata": {},
   "outputs": [
    {
     "data": {
      "text/html": [
       "<div>\n",
       "<style scoped>\n",
       "    .dataframe tbody tr th:only-of-type {\n",
       "        vertical-align: middle;\n",
       "    }\n",
       "\n",
       "    .dataframe tbody tr th {\n",
       "        vertical-align: top;\n",
       "    }\n",
       "\n",
       "    .dataframe thead th {\n",
       "        text-align: right;\n",
       "    }\n",
       "</style>\n",
       "<table border=\"1\" class=\"dataframe\">\n",
       "  <thead>\n",
       "    <tr style=\"text-align: right;\">\n",
       "      <th></th>\n",
       "      <th>Student ID</th>\n",
       "      <th>name</th>\n",
       "      <th>gender</th>\n",
       "      <th>grade</th>\n",
       "      <th>school</th>\n",
       "      <th>reading_score</th>\n",
       "      <th>math_score</th>\n",
       "    </tr>\n",
       "  </thead>\n",
       "  <tbody>\n",
       "    <tr>\n",
       "      <th>0</th>\n",
       "      <td>0</td>\n",
       "      <td>Paul Bradley</td>\n",
       "      <td>M</td>\n",
       "      <td>9th</td>\n",
       "      <td>Huang High School</td>\n",
       "      <td>66</td>\n",
       "      <td>79</td>\n",
       "    </tr>\n",
       "    <tr>\n",
       "      <th>1</th>\n",
       "      <td>1</td>\n",
       "      <td>Victor Smith</td>\n",
       "      <td>M</td>\n",
       "      <td>12th</td>\n",
       "      <td>Huang High School</td>\n",
       "      <td>94</td>\n",
       "      <td>61</td>\n",
       "    </tr>\n",
       "    <tr>\n",
       "      <th>2</th>\n",
       "      <td>2</td>\n",
       "      <td>Kevin Rodriguez</td>\n",
       "      <td>M</td>\n",
       "      <td>12th</td>\n",
       "      <td>Huang High School</td>\n",
       "      <td>90</td>\n",
       "      <td>60</td>\n",
       "    </tr>\n",
       "    <tr>\n",
       "      <th>3</th>\n",
       "      <td>3</td>\n",
       "      <td>Dr. Richard Scott</td>\n",
       "      <td>M</td>\n",
       "      <td>12th</td>\n",
       "      <td>Huang High School</td>\n",
       "      <td>67</td>\n",
       "      <td>58</td>\n",
       "    </tr>\n",
       "    <tr>\n",
       "      <th>4</th>\n",
       "      <td>4</td>\n",
       "      <td>Bonnie Ray</td>\n",
       "      <td>F</td>\n",
       "      <td>9th</td>\n",
       "      <td>Huang High School</td>\n",
       "      <td>97</td>\n",
       "      <td>84</td>\n",
       "    </tr>\n",
       "  </tbody>\n",
       "</table>\n",
       "</div>"
      ],
      "text/plain": [
       "   Student ID               name gender grade             school  \\\n",
       "0           0       Paul Bradley      M   9th  Huang High School   \n",
       "1           1       Victor Smith      M  12th  Huang High School   \n",
       "2           2    Kevin Rodriguez      M  12th  Huang High School   \n",
       "3           3  Dr. Richard Scott      M  12th  Huang High School   \n",
       "4           4         Bonnie Ray      F   9th  Huang High School   \n",
       "\n",
       "   reading_score  math_score  \n",
       "0             66          79  \n",
       "1             94          61  \n",
       "2             90          60  \n",
       "3             67          58  \n",
       "4             97          84  "
      ]
     },
     "execution_count": 4,
     "metadata": {},
     "output_type": "execute_result"
    }
   ],
   "source": [
    "students = pd.read_csv(file_2)\n",
    "students.head()"
   ]
  },
  {
   "cell_type": "code",
   "execution_count": 5,
   "metadata": {},
   "outputs": [
    {
     "data": {
      "text/html": [
       "<div>\n",
       "<style scoped>\n",
       "    .dataframe tbody tr th:only-of-type {\n",
       "        vertical-align: middle;\n",
       "    }\n",
       "\n",
       "    .dataframe tbody tr th {\n",
       "        vertical-align: top;\n",
       "    }\n",
       "\n",
       "    .dataframe thead th {\n",
       "        text-align: right;\n",
       "    }\n",
       "</style>\n",
       "<table border=\"1\" class=\"dataframe\">\n",
       "  <thead>\n",
       "    <tr style=\"text-align: right;\">\n",
       "      <th></th>\n",
       "      <th>School ID</th>\n",
       "      <th>school</th>\n",
       "      <th>type</th>\n",
       "      <th>size</th>\n",
       "      <th>budget</th>\n",
       "    </tr>\n",
       "  </thead>\n",
       "  <tbody>\n",
       "    <tr>\n",
       "      <th>0</th>\n",
       "      <td>0</td>\n",
       "      <td>Huang High School</td>\n",
       "      <td>District</td>\n",
       "      <td>2917</td>\n",
       "      <td>1910635</td>\n",
       "    </tr>\n",
       "    <tr>\n",
       "      <th>1</th>\n",
       "      <td>1</td>\n",
       "      <td>Figueroa High School</td>\n",
       "      <td>District</td>\n",
       "      <td>2949</td>\n",
       "      <td>1884411</td>\n",
       "    </tr>\n",
       "    <tr>\n",
       "      <th>2</th>\n",
       "      <td>2</td>\n",
       "      <td>Shelton High School</td>\n",
       "      <td>Charter</td>\n",
       "      <td>1761</td>\n",
       "      <td>1056600</td>\n",
       "    </tr>\n",
       "    <tr>\n",
       "      <th>3</th>\n",
       "      <td>3</td>\n",
       "      <td>Hernandez High School</td>\n",
       "      <td>District</td>\n",
       "      <td>4635</td>\n",
       "      <td>3022020</td>\n",
       "    </tr>\n",
       "    <tr>\n",
       "      <th>4</th>\n",
       "      <td>4</td>\n",
       "      <td>Griffin High School</td>\n",
       "      <td>Charter</td>\n",
       "      <td>1468</td>\n",
       "      <td>917500</td>\n",
       "    </tr>\n",
       "  </tbody>\n",
       "</table>\n",
       "</div>"
      ],
      "text/plain": [
       "   School ID                 school      type  size   budget\n",
       "0          0      Huang High School  District  2917  1910635\n",
       "1          1   Figueroa High School  District  2949  1884411\n",
       "2          2    Shelton High School   Charter  1761  1056600\n",
       "3          3  Hernandez High School  District  4635  3022020\n",
       "4          4    Griffin High School   Charter  1468   917500"
      ]
     },
     "execution_count": 5,
     "metadata": {},
     "output_type": "execute_result"
    }
   ],
   "source": [
    "school = school.rename(columns={\"name\": \"school\"})\n",
    "school.head()"
   ]
  },
  {
   "cell_type": "code",
   "execution_count": 6,
   "metadata": {},
   "outputs": [
    {
     "data": {
      "text/html": [
       "<div>\n",
       "<style scoped>\n",
       "    .dataframe tbody tr th:only-of-type {\n",
       "        vertical-align: middle;\n",
       "    }\n",
       "\n",
       "    .dataframe tbody tr th {\n",
       "        vertical-align: top;\n",
       "    }\n",
       "\n",
       "    .dataframe thead th {\n",
       "        text-align: right;\n",
       "    }\n",
       "</style>\n",
       "<table border=\"1\" class=\"dataframe\">\n",
       "  <thead>\n",
       "    <tr style=\"text-align: right;\">\n",
       "      <th></th>\n",
       "      <th>School ID</th>\n",
       "      <th>school</th>\n",
       "      <th>type</th>\n",
       "      <th>size</th>\n",
       "      <th>budget</th>\n",
       "      <th>Student ID</th>\n",
       "      <th>name</th>\n",
       "      <th>gender</th>\n",
       "      <th>grade</th>\n",
       "      <th>reading_score</th>\n",
       "      <th>math_score</th>\n",
       "    </tr>\n",
       "  </thead>\n",
       "  <tbody>\n",
       "    <tr>\n",
       "      <th>0</th>\n",
       "      <td>0</td>\n",
       "      <td>Huang High School</td>\n",
       "      <td>District</td>\n",
       "      <td>2917</td>\n",
       "      <td>1910635</td>\n",
       "      <td>0</td>\n",
       "      <td>Paul Bradley</td>\n",
       "      <td>M</td>\n",
       "      <td>9th</td>\n",
       "      <td>66</td>\n",
       "      <td>79</td>\n",
       "    </tr>\n",
       "    <tr>\n",
       "      <th>1</th>\n",
       "      <td>0</td>\n",
       "      <td>Huang High School</td>\n",
       "      <td>District</td>\n",
       "      <td>2917</td>\n",
       "      <td>1910635</td>\n",
       "      <td>1</td>\n",
       "      <td>Victor Smith</td>\n",
       "      <td>M</td>\n",
       "      <td>12th</td>\n",
       "      <td>94</td>\n",
       "      <td>61</td>\n",
       "    </tr>\n",
       "    <tr>\n",
       "      <th>2</th>\n",
       "      <td>0</td>\n",
       "      <td>Huang High School</td>\n",
       "      <td>District</td>\n",
       "      <td>2917</td>\n",
       "      <td>1910635</td>\n",
       "      <td>2</td>\n",
       "      <td>Kevin Rodriguez</td>\n",
       "      <td>M</td>\n",
       "      <td>12th</td>\n",
       "      <td>90</td>\n",
       "      <td>60</td>\n",
       "    </tr>\n",
       "    <tr>\n",
       "      <th>3</th>\n",
       "      <td>0</td>\n",
       "      <td>Huang High School</td>\n",
       "      <td>District</td>\n",
       "      <td>2917</td>\n",
       "      <td>1910635</td>\n",
       "      <td>3</td>\n",
       "      <td>Dr. Richard Scott</td>\n",
       "      <td>M</td>\n",
       "      <td>12th</td>\n",
       "      <td>67</td>\n",
       "      <td>58</td>\n",
       "    </tr>\n",
       "    <tr>\n",
       "      <th>4</th>\n",
       "      <td>0</td>\n",
       "      <td>Huang High School</td>\n",
       "      <td>District</td>\n",
       "      <td>2917</td>\n",
       "      <td>1910635</td>\n",
       "      <td>4</td>\n",
       "      <td>Bonnie Ray</td>\n",
       "      <td>F</td>\n",
       "      <td>9th</td>\n",
       "      <td>97</td>\n",
       "      <td>84</td>\n",
       "    </tr>\n",
       "  </tbody>\n",
       "</table>\n",
       "</div>"
      ],
      "text/plain": [
       "   School ID             school      type  size   budget  Student ID  \\\n",
       "0          0  Huang High School  District  2917  1910635           0   \n",
       "1          0  Huang High School  District  2917  1910635           1   \n",
       "2          0  Huang High School  District  2917  1910635           2   \n",
       "3          0  Huang High School  District  2917  1910635           3   \n",
       "4          0  Huang High School  District  2917  1910635           4   \n",
       "\n",
       "                name gender grade  reading_score  math_score  \n",
       "0       Paul Bradley      M   9th             66          79  \n",
       "1       Victor Smith      M  12th             94          61  \n",
       "2    Kevin Rodriguez      M  12th             90          60  \n",
       "3  Dr. Richard Scott      M  12th             67          58  \n",
       "4         Bonnie Ray      F   9th             97          84  "
      ]
     },
     "execution_count": 6,
     "metadata": {},
     "output_type": "execute_result"
    }
   ],
   "source": [
    "merged_df = pd.merge(school, students, on = \"school\")\n",
    "merged_df.head()"
   ]
  },
  {
   "cell_type": "code",
   "execution_count": 7,
   "metadata": {},
   "outputs": [
    {
     "data": {
      "text/plain": [
       "School ID        39170\n",
       "school           39170\n",
       "type             39170\n",
       "size             39170\n",
       "budget           39170\n",
       "Student ID       39170\n",
       "name             39170\n",
       "gender           39170\n",
       "grade            39170\n",
       "reading_score    39170\n",
       "math_score       39170\n",
       "dtype: int64"
      ]
     },
     "execution_count": 7,
     "metadata": {},
     "output_type": "execute_result"
    }
   ],
   "source": [
    "merged_df.count()"
   ]
  },
  {
   "cell_type": "code",
   "execution_count": 8,
   "metadata": {},
   "outputs": [
    {
     "data": {
      "text/plain": [
       "School ID    15\n",
       "school       15\n",
       "type         15\n",
       "size         15\n",
       "budget       15\n",
       "dtype: int64"
      ]
     },
     "execution_count": 8,
     "metadata": {},
     "output_type": "execute_result"
    }
   ],
   "source": [
    "school.count()"
   ]
  },
  {
   "cell_type": "code",
   "execution_count": 9,
   "metadata": {},
   "outputs": [
    {
     "data": {
      "text/plain": [
       "Student ID       39170\n",
       "name             39170\n",
       "gender           39170\n",
       "grade            39170\n",
       "school           39170\n",
       "reading_score    39170\n",
       "math_score       39170\n",
       "dtype: int64"
      ]
     },
     "execution_count": 9,
     "metadata": {},
     "output_type": "execute_result"
    }
   ],
   "source": [
    "students.count()"
   ]
  },
  {
   "cell_type": "code",
   "execution_count": 10,
   "metadata": {},
   "outputs": [
    {
     "data": {
      "text/plain": [
       "24649428"
      ]
     },
     "execution_count": 10,
     "metadata": {},
     "output_type": "execute_result"
    }
   ],
   "source": [
    "total_budget = school[\"budget\"].sum()\n",
    "total_budget"
   ]
  },
  {
   "cell_type": "code",
   "execution_count": 11,
   "metadata": {},
   "outputs": [
    {
     "data": {
      "text/html": [
       "<div>\n",
       "<style scoped>\n",
       "    .dataframe tbody tr th:only-of-type {\n",
       "        vertical-align: middle;\n",
       "    }\n",
       "\n",
       "    .dataframe tbody tr th {\n",
       "        vertical-align: top;\n",
       "    }\n",
       "\n",
       "    .dataframe thead th {\n",
       "        text-align: right;\n",
       "    }\n",
       "</style>\n",
       "<table border=\"1\" class=\"dataframe\">\n",
       "  <thead>\n",
       "    <tr style=\"text-align: right;\">\n",
       "      <th></th>\n",
       "      <th>school</th>\n",
       "    </tr>\n",
       "  </thead>\n",
       "  <tbody>\n",
       "    <tr>\n",
       "      <th>Bailey High School</th>\n",
       "      <td>4976</td>\n",
       "    </tr>\n",
       "    <tr>\n",
       "      <th>Johnson High School</th>\n",
       "      <td>4761</td>\n",
       "    </tr>\n",
       "    <tr>\n",
       "      <th>Hernandez High School</th>\n",
       "      <td>4635</td>\n",
       "    </tr>\n",
       "    <tr>\n",
       "      <th>Rodriguez High School</th>\n",
       "      <td>3999</td>\n",
       "    </tr>\n",
       "    <tr>\n",
       "      <th>Figueroa High School</th>\n",
       "      <td>2949</td>\n",
       "    </tr>\n",
       "    <tr>\n",
       "      <th>Huang High School</th>\n",
       "      <td>2917</td>\n",
       "    </tr>\n",
       "    <tr>\n",
       "      <th>Ford High School</th>\n",
       "      <td>2739</td>\n",
       "    </tr>\n",
       "    <tr>\n",
       "      <th>Wilson High School</th>\n",
       "      <td>2283</td>\n",
       "    </tr>\n",
       "    <tr>\n",
       "      <th>Cabrera High School</th>\n",
       "      <td>1858</td>\n",
       "    </tr>\n",
       "    <tr>\n",
       "      <th>Wright High School</th>\n",
       "      <td>1800</td>\n",
       "    </tr>\n",
       "    <tr>\n",
       "      <th>Shelton High School</th>\n",
       "      <td>1761</td>\n",
       "    </tr>\n",
       "    <tr>\n",
       "      <th>Thomas High School</th>\n",
       "      <td>1635</td>\n",
       "    </tr>\n",
       "    <tr>\n",
       "      <th>Griffin High School</th>\n",
       "      <td>1468</td>\n",
       "    </tr>\n",
       "    <tr>\n",
       "      <th>Pena High School</th>\n",
       "      <td>962</td>\n",
       "    </tr>\n",
       "    <tr>\n",
       "      <th>Holden High School</th>\n",
       "      <td>427</td>\n",
       "    </tr>\n",
       "  </tbody>\n",
       "</table>\n",
       "</div>"
      ],
      "text/plain": [
       "                       school\n",
       "Bailey High School       4976\n",
       "Johnson High School      4761\n",
       "Hernandez High School    4635\n",
       "Rodriguez High School    3999\n",
       "Figueroa High School     2949\n",
       "Huang High School        2917\n",
       "Ford High School         2739\n",
       "Wilson High School       2283\n",
       "Cabrera High School      1858\n",
       "Wright High School       1800\n",
       "Shelton High School      1761\n",
       "Thomas High School       1635\n",
       "Griffin High School      1468\n",
       "Pena High School          962\n",
       "Holden High School        427"
      ]
     },
     "execution_count": 11,
     "metadata": {},
     "output_type": "execute_result"
    }
   ],
   "source": [
    "# getting the required data\n",
    "student_in_school = pd.DataFrame(merged_df[\"school\"].value_counts())\n",
    "student_in_school"
   ]
  },
  {
   "cell_type": "code",
   "execution_count": 12,
   "metadata": {},
   "outputs": [
    {
     "data": {
      "text/plain": [
       "array(['Huang High School', 'Figueroa High School', 'Shelton High School',\n",
       "       'Hernandez High School', 'Griffin High School',\n",
       "       'Wilson High School', 'Cabrera High School', 'Bailey High School',\n",
       "       'Holden High School', 'Pena High School', 'Wright High School',\n",
       "       'Rodriguez High School', 'Johnson High School', 'Ford High School',\n",
       "       'Thomas High School'], dtype=object)"
      ]
     },
     "execution_count": 12,
     "metadata": {},
     "output_type": "execute_result"
    }
   ],
   "source": [
    "school_names = merged_df['school'].unique()\n",
    "school_names"
   ]
  },
  {
   "cell_type": "code",
   "execution_count": 13,
   "metadata": {},
   "outputs": [
    {
     "data": {
      "text/plain": [
       "15"
      ]
     },
     "execution_count": 13,
     "metadata": {},
     "output_type": "execute_result"
    }
   ],
   "source": [
    "school_number = len(school_names)\n",
    "school_number"
   ]
  },
  {
   "cell_type": "code",
   "execution_count": 14,
   "metadata": {},
   "outputs": [
    {
     "data": {
      "text/plain": [
       "39170"
      ]
     },
     "execution_count": 14,
     "metadata": {},
     "output_type": "execute_result"
    }
   ],
   "source": [
    "total_students = students['name'].count()\n",
    "total_students"
   ]
  },
  {
   "cell_type": "code",
   "execution_count": 15,
   "metadata": {},
   "outputs": [
    {
     "data": {
      "text/plain": [
       "78.98537145774827"
      ]
     },
     "execution_count": 15,
     "metadata": {},
     "output_type": "execute_result"
    }
   ],
   "source": [
    "math_score_average = merged_df[\"math_score\"].mean()\n",
    "math_score_average"
   ]
  },
  {
   "cell_type": "code",
   "execution_count": 16,
   "metadata": {},
   "outputs": [
    {
     "data": {
      "text/plain": [
       "81.87784018381414"
      ]
     },
     "execution_count": 16,
     "metadata": {},
     "output_type": "execute_result"
    }
   ],
   "source": [
    "reading_score_average = merged_df[\"reading_score\"].mean()\n",
    "reading_score_average"
   ]
  },
  {
   "cell_type": "code",
   "execution_count": 17,
   "metadata": {},
   "outputs": [
    {
     "data": {
      "text/plain": [
       "74.9808526933878"
      ]
     },
     "execution_count": 17,
     "metadata": {},
     "output_type": "execute_result"
    }
   ],
   "source": [
    "# Amount of passing math scores (Above 70)\n",
    "num_passing_math = students.loc[students['math_score'] >= 70]['math_score'].count()\n",
    "percent_math_pass = num_passing_math/float(total_students) * 100\n",
    "percent_math_pass"
   ]
  },
  {
   "cell_type": "code",
   "execution_count": 18,
   "metadata": {},
   "outputs": [
    {
     "data": {
      "text/plain": [
       "85.80546336482001"
      ]
     },
     "execution_count": 18,
     "metadata": {},
     "output_type": "execute_result"
    }
   ],
   "source": [
    "# Amount of passing reading scores (Above 70)\n",
    "num_passing_read = students.loc[students['reading_score'] >= 70]['reading_score'].count()\n",
    "percent_read_pass = num_passing_read/float(total_students) * 100\n",
    "percent_read_pass"
   ]
  },
  {
   "cell_type": "code",
   "execution_count": 19,
   "metadata": {},
   "outputs": [
    {
     "data": {
      "text/plain": [
       "80.39315802910392"
      ]
     },
     "execution_count": 19,
     "metadata": {},
     "output_type": "execute_result"
    }
   ],
   "source": [
    "overall_passing_rate = (percent_math_pass + percent_read_pass) / 2\n",
    "overall_passing_rate"
   ]
  },
  {
   "cell_type": "code",
   "execution_count": 20,
   "metadata": {},
   "outputs": [
    {
     "data": {
      "text/html": [
       "<div>\n",
       "<style scoped>\n",
       "    .dataframe tbody tr th:only-of-type {\n",
       "        vertical-align: middle;\n",
       "    }\n",
       "\n",
       "    .dataframe tbody tr th {\n",
       "        vertical-align: top;\n",
       "    }\n",
       "\n",
       "    .dataframe thead th {\n",
       "        text-align: right;\n",
       "    }\n",
       "</style>\n",
       "<table border=\"1\" class=\"dataframe\">\n",
       "  <thead>\n",
       "    <tr style=\"text-align: right;\">\n",
       "      <th></th>\n",
       "      <th>% Passing Math</th>\n",
       "      <th>% Passing Reading</th>\n",
       "      <th>Average Math Score</th>\n",
       "      <th>Average Reading Score</th>\n",
       "      <th>Overall Passing Rate</th>\n",
       "      <th>Total Budget</th>\n",
       "      <th>Total Schools</th>\n",
       "      <th>Total Students</th>\n",
       "    </tr>\n",
       "  </thead>\n",
       "  <tbody>\n",
       "    <tr>\n",
       "      <th>0</th>\n",
       "      <td>74.980853</td>\n",
       "      <td>85.805463</td>\n",
       "      <td>78.985371</td>\n",
       "      <td>81.87784</td>\n",
       "      <td>80.393158</td>\n",
       "      <td>24649428</td>\n",
       "      <td>15</td>\n",
       "      <td>39170</td>\n",
       "    </tr>\n",
       "  </tbody>\n",
       "</table>\n",
       "</div>"
      ],
      "text/plain": [
       "   % Passing Math  % Passing Reading  Average Math Score  \\\n",
       "0       74.980853          85.805463           78.985371   \n",
       "\n",
       "   Average Reading Score  Overall Passing Rate  Total Budget  Total Schools  \\\n",
       "0               81.87784             80.393158      24649428             15   \n",
       "\n",
       "   Total Students  \n",
       "0           39170  "
      ]
     },
     "execution_count": 20,
     "metadata": {},
     "output_type": "execute_result"
    }
   ],
   "source": [
    "# Creating a District summary DataFrame using above values\n",
    "dist_summary_df = pd.DataFrame({\"Total Schools\" : [school_number],\n",
    "                            \"Total Students\": [total_students],\n",
    "                           \"Total Budget\": [total_budget],\n",
    "                           \"Average Math Score\": [math_score_average],\n",
    "                           \"Average Reading Score\": [reading_score_average],\n",
    "                           \"% Passing Math\": [percent_math_pass],\n",
    "                           \"% Passing Reading\": [percent_read_pass],     \n",
    "                           \"Overall Passing Rate\": [overall_passing_rate]})\n",
    "\n",
    "\n",
    "dist_summary_df"
   ]
  },
  {
   "cell_type": "code",
   "execution_count": 21,
   "metadata": {},
   "outputs": [
    {
     "data": {
      "text/html": [
       "<div>\n",
       "<style scoped>\n",
       "    .dataframe tbody tr th:only-of-type {\n",
       "        vertical-align: middle;\n",
       "    }\n",
       "\n",
       "    .dataframe tbody tr th {\n",
       "        vertical-align: top;\n",
       "    }\n",
       "\n",
       "    .dataframe thead th {\n",
       "        text-align: right;\n",
       "    }\n",
       "</style>\n",
       "<table border=\"1\" class=\"dataframe\">\n",
       "  <thead>\n",
       "    <tr style=\"text-align: right;\">\n",
       "      <th></th>\n",
       "      <th>Total Schools</th>\n",
       "      <th>Total Students</th>\n",
       "      <th>Total Budget</th>\n",
       "      <th>Average Math Score</th>\n",
       "      <th>Average Reading Score</th>\n",
       "      <th>% Passing Math</th>\n",
       "      <th>% Passing Reading</th>\n",
       "      <th>Overall Passing Rate</th>\n",
       "    </tr>\n",
       "  </thead>\n",
       "  <tbody>\n",
       "    <tr>\n",
       "      <th>0</th>\n",
       "      <td>15</td>\n",
       "      <td>39170</td>\n",
       "      <td>24649428</td>\n",
       "      <td>78.985371</td>\n",
       "      <td>81.87784</td>\n",
       "      <td>74.980853</td>\n",
       "      <td>85.805463</td>\n",
       "      <td>80.393158</td>\n",
       "    </tr>\n",
       "  </tbody>\n",
       "</table>\n",
       "</div>"
      ],
      "text/plain": [
       "   Total Schools  Total Students  Total Budget  Average Math Score  \\\n",
       "0             15           39170      24649428           78.985371   \n",
       "\n",
       "   Average Reading Score  % Passing Math  % Passing Reading  \\\n",
       "0               81.87784       74.980853          85.805463   \n",
       "\n",
       "   Overall Passing Rate  \n",
       "0             80.393158  "
      ]
     },
     "execution_count": 21,
     "metadata": {},
     "output_type": "execute_result"
    }
   ],
   "source": [
    "# Create a different Data Frame so we can arrange the columns the way that it is required\n",
    "district_summary = dist_summary_df[[\"Total Schools\", \"Total Students\", \"Total Budget\", \"Average Math Score\", \"Average Reading Score\", \n",
    "                                 '% Passing Math', '% Passing Reading', 'Overall Passing Rate']]\n",
    "district_summary"
   ]
  },
  {
   "cell_type": "code",
   "execution_count": 22,
   "metadata": {},
   "outputs": [],
   "source": [
    "# Use Map to format all the columns\n",
    "district_summary[\"Total Students\"] = district_summary[\"Total Students\"].map(\"{:,}\".format)\n",
    "district_summary[\"Total Budget\"] = district_summary[\"Total Budget\"].map(\"${:,.2f}\".format)\n",
    "district_summary[\"Average Math Score\"] = district_summary[\"Average Math Score\"].map(\"{:.6f}\".format)"
   ]
  },
  {
   "cell_type": "markdown",
   "metadata": {},
   "source": [
    "# District Summary"
   ]
  },
  {
   "cell_type": "code",
   "execution_count": 23,
   "metadata": {},
   "outputs": [
    {
     "data": {
      "text/html": [
       "<div>\n",
       "<style scoped>\n",
       "    .dataframe tbody tr th:only-of-type {\n",
       "        vertical-align: middle;\n",
       "    }\n",
       "\n",
       "    .dataframe tbody tr th {\n",
       "        vertical-align: top;\n",
       "    }\n",
       "\n",
       "    .dataframe thead th {\n",
       "        text-align: right;\n",
       "    }\n",
       "</style>\n",
       "<table border=\"1\" class=\"dataframe\">\n",
       "  <thead>\n",
       "    <tr style=\"text-align: right;\">\n",
       "      <th></th>\n",
       "      <th>Total Schools</th>\n",
       "      <th>Total Students</th>\n",
       "      <th>Total Budget</th>\n",
       "      <th>Average Math Score</th>\n",
       "      <th>Average Reading Score</th>\n",
       "      <th>% Passing Math</th>\n",
       "      <th>% Passing Reading</th>\n",
       "      <th>Overall Passing Rate</th>\n",
       "    </tr>\n",
       "  </thead>\n",
       "  <tbody>\n",
       "    <tr>\n",
       "      <th>0</th>\n",
       "      <td>15</td>\n",
       "      <td>39,170</td>\n",
       "      <td>$24,649,428.00</td>\n",
       "      <td>78.985371</td>\n",
       "      <td>81.87784</td>\n",
       "      <td>74.980853</td>\n",
       "      <td>85.805463</td>\n",
       "      <td>80.393158</td>\n",
       "    </tr>\n",
       "  </tbody>\n",
       "</table>\n",
       "</div>"
      ],
      "text/plain": [
       "   Total Schools Total Students    Total Budget Average Math Score  \\\n",
       "0             15         39,170  $24,649,428.00          78.985371   \n",
       "\n",
       "   Average Reading Score  % Passing Math  % Passing Reading  \\\n",
       "0               81.87784       74.980853          85.805463   \n",
       "\n",
       "   Overall Passing Rate  \n",
       "0             80.393158  "
      ]
     },
     "execution_count": 23,
     "metadata": {},
     "output_type": "execute_result"
    }
   ],
   "source": [
    "district_summary"
   ]
  },
  {
   "cell_type": "code",
   "execution_count": 24,
   "metadata": {
    "scrolled": true
   },
   "outputs": [
    {
     "data": {
      "text/plain": [
       "<pandas.core.groupby.DataFrameGroupBy object at 0x112834128>"
      ]
     },
     "execution_count": 24,
     "metadata": {},
     "output_type": "execute_result"
    }
   ],
   "source": [
    "# Group everything by School to be used for the School Summary\n",
    "school_grouped = merged_df.set_index('school').groupby(\"school\")\n",
    "school_grouped\n",
    "#.groupby(['school'])\n",
    "#school_grouped.head()"
   ]
  },
  {
   "cell_type": "code",
   "execution_count": null,
   "metadata": {},
   "outputs": [],
   "source": []
  },
  {
   "cell_type": "code",
   "execution_count": 25,
   "metadata": {},
   "outputs": [
    {
     "data": {
      "text/plain": [
       "school\n",
       "Huang High School        District\n",
       "Figueroa High School     District\n",
       "Shelton High School       Charter\n",
       "Hernandez High School    District\n",
       "Griffin High School       Charter\n",
       "Name: type, dtype: object"
      ]
     },
     "execution_count": 25,
     "metadata": {},
     "output_type": "execute_result"
    }
   ],
   "source": [
    "# Obtain the school type (either District or Charter)\n",
    "school_type = school.set_index('school') ['type']\n",
    "school_type.head()"
   ]
  },
  {
   "cell_type": "code",
   "execution_count": 26,
   "metadata": {},
   "outputs": [
    {
     "data": {
      "text/plain": [
       "school\n",
       "Bailey High School       4976\n",
       "Cabrera High School      1858\n",
       "Figueroa High School     2949\n",
       "Ford High School         2739\n",
       "Griffin High School      1468\n",
       "Hernandez High School    4635\n",
       "Holden High School        427\n",
       "Huang High School        2917\n",
       "Johnson High School      4761\n",
       "Pena High School          962\n",
       "Rodriguez High School    3999\n",
       "Shelton High School      1761\n",
       "Thomas High School       1635\n",
       "Wilson High School       2283\n",
       "Wright High School       1800\n",
       "Name: Student ID, dtype: int64"
      ]
     },
     "execution_count": 26,
     "metadata": {},
     "output_type": "execute_result"
    }
   ],
   "source": [
    "# Get students by School\n",
    "students_per_school = school_grouped['Student ID'].count()\n",
    "students_per_school"
   ]
  },
  {
   "cell_type": "code",
   "execution_count": 27,
   "metadata": {},
   "outputs": [
    {
     "data": {
      "text/plain": [
       "school\n",
       "Huang High School        1910635\n",
       "Figueroa High School     1884411\n",
       "Shelton High School      1056600\n",
       "Hernandez High School    3022020\n",
       "Griffin High School       917500\n",
       "Wilson High School       1319574\n",
       "Cabrera High School      1081356\n",
       "Bailey High School       3124928\n",
       "Holden High School        248087\n",
       "Pena High School          585858\n",
       "Wright High School       1049400\n",
       "Rodriguez High School    2547363\n",
       "Johnson High School      3094650\n",
       "Ford High School         1763916\n",
       "Thomas High School       1043130\n",
       "Name: budget, dtype: int64"
      ]
     },
     "execution_count": 27,
     "metadata": {},
     "output_type": "execute_result"
    }
   ],
   "source": [
    "# Get budget by school\n",
    "budget_per_school = school.set_index('school')['budget']\n",
    "budget_per_school"
   ]
  },
  {
   "cell_type": "code",
   "execution_count": 28,
   "metadata": {},
   "outputs": [
    {
     "data": {
      "text/plain": [
       "school\n",
       "Huang High School        655.0\n",
       "Figueroa High School     639.0\n",
       "Shelton High School      600.0\n",
       "Hernandez High School    652.0\n",
       "Griffin High School      625.0\n",
       "dtype: float64"
      ]
     },
     "execution_count": 28,
     "metadata": {},
     "output_type": "execute_result"
    }
   ],
   "source": [
    "# Get the amount of budget per student\n",
    "student_budget = school.set_index('school')['budget'] / school.set_index('school')['size']\n",
    "student_budget.head()"
   ]
  },
  {
   "cell_type": "code",
   "execution_count": 29,
   "metadata": {},
   "outputs": [
    {
     "data": {
      "text/plain": [
       "school\n",
       "Bailey High School       81.033963\n",
       "Cabrera High School      83.975780\n",
       "Figueroa High School     81.158020\n",
       "Ford High School         80.746258\n",
       "Griffin High School      83.816757\n",
       "Hernandez High School    80.934412\n",
       "Holden High School       83.814988\n",
       "Huang High School        81.182722\n",
       "Johnson High School      80.966394\n",
       "Pena High School         84.044699\n",
       "Rodriguez High School    80.744686\n",
       "Shelton High School      83.725724\n",
       "Thomas High School       83.848930\n",
       "Wilson High School       83.989488\n",
       "Wright High School       83.955000\n",
       "Name: reading_score, dtype: float64"
      ]
     },
     "execution_count": 29,
     "metadata": {},
     "output_type": "execute_result"
    }
   ],
   "source": [
    "# Obtain the Average Math & Reading Scores\n",
    "school_average_math = school_grouped['math_score'].mean()\n",
    "school_average_reading = school_grouped['reading_score'].mean()\n",
    "school_average_reading"
   ]
  },
  {
   "cell_type": "code",
   "execution_count": 30,
   "metadata": {},
   "outputs": [
    {
     "data": {
      "text/plain": [
       "school\n",
       "Bailey High School       66.680064\n",
       "Cabrera High School      94.133477\n",
       "Figueroa High School     65.988471\n",
       "Ford High School         68.309602\n",
       "Griffin High School      93.392371\n",
       "Hernandez High School    66.752967\n",
       "Holden High School       92.505855\n",
       "Huang High School        65.683922\n",
       "Johnson High School      66.057551\n",
       "Pena High School         94.594595\n",
       "Rodriguez High School    66.366592\n",
       "Shelton High School      93.867121\n",
       "Thomas High School       93.272171\n",
       "Wilson High School       93.867718\n",
       "Wright High School       93.333333\n",
       "Name: Student ID, dtype: float64"
      ]
     },
     "execution_count": 30,
     "metadata": {},
     "output_type": "execute_result"
    }
   ],
   "source": [
    "# Get the passing math % per school\n",
    "school_passing_math = (merged_df[merged_df['math_score'] >= 70].groupby('school')['Student ID'].count() / students_per_school) * 100\n",
    "school_passing_math"
   ]
  },
  {
   "cell_type": "code",
   "execution_count": 31,
   "metadata": {},
   "outputs": [
    {
     "data": {
      "text/plain": [
       "school\n",
       "Bailey High School       81.933280\n",
       "Cabrera High School      97.039828\n",
       "Figueroa High School     80.739234\n",
       "Ford High School         79.299014\n",
       "Griffin High School      97.138965\n",
       "Hernandez High School    80.862999\n",
       "Holden High School       96.252927\n",
       "Huang High School        81.316421\n",
       "Johnson High School      81.222432\n",
       "Pena High School         95.945946\n",
       "Rodriguez High School    80.220055\n",
       "Shelton High School      95.854628\n",
       "Thomas High School       97.308869\n",
       "Wilson High School       96.539641\n",
       "Wright High School       96.611111\n",
       "Name: Student ID, dtype: float64"
      ]
     },
     "execution_count": 31,
     "metadata": {},
     "output_type": "execute_result"
    }
   ],
   "source": [
    "# Get the passing reading % per school\n",
    "school_passing_reading = (merged_df[merged_df['reading_score'] >= 70].groupby('school')['Student ID'].count() / students_per_school) * 100\n",
    "school_passing_reading"
   ]
  },
  {
   "cell_type": "code",
   "execution_count": 32,
   "metadata": {},
   "outputs": [
    {
     "data": {
      "text/plain": [
       "school\n",
       "Bailey High School       74.306672\n",
       "Cabrera High School      95.586652\n",
       "Figueroa High School     73.363852\n",
       "Ford High School         73.804308\n",
       "Griffin High School      95.265668\n",
       "Hernandez High School    73.807983\n",
       "Holden High School       94.379391\n",
       "Huang High School        73.500171\n",
       "Johnson High School      73.639992\n",
       "Pena High School         95.270270\n",
       "Rodriguez High School    73.293323\n",
       "Shelton High School      94.860875\n",
       "Thomas High School       95.290520\n",
       "Wilson High School       95.203679\n",
       "Wright High School       94.972222\n",
       "Name: Student ID, dtype: float64"
      ]
     },
     "execution_count": 32,
     "metadata": {},
     "output_type": "execute_result"
    }
   ],
   "source": [
    "# Obtaining Overall Passing Rate per school\n",
    "overall_pass_rate_school = (school_passing_math + school_passing_reading) / 2\n",
    "overall_pass_rate_school"
   ]
  },
  {
   "cell_type": "code",
   "execution_count": 33,
   "metadata": {
    "scrolled": true
   },
   "outputs": [],
   "source": [
    "# Creating the school summary DataFrame using above values\n",
    "school_summary_df = pd.DataFrame({\"School Type\" : school_type,\n",
    "                            \"Total Students\": students_per_school,\n",
    "                           \"Total School Budget\": budget_per_school,\n",
    "                           \"Per Student Budget\": student_budget,       \n",
    "                           \"Average Math Score\": school_average_math,\n",
    "                           \"Average Reading Score\": school_average_reading,\n",
    "                           '% Passing Math': school_passing_math,\n",
    "                           '% Passing Reading': school_passing_reading,     \n",
    "                           \"Overall Passing Rate\": overall_pass_rate_school})"
   ]
  },
  {
   "cell_type": "code",
   "execution_count": 34,
   "metadata": {},
   "outputs": [
    {
     "data": {
      "text/html": [
       "<div>\n",
       "<style scoped>\n",
       "    .dataframe tbody tr th:only-of-type {\n",
       "        vertical-align: middle;\n",
       "    }\n",
       "\n",
       "    .dataframe tbody tr th {\n",
       "        vertical-align: top;\n",
       "    }\n",
       "\n",
       "    .dataframe thead th {\n",
       "        text-align: right;\n",
       "    }\n",
       "</style>\n",
       "<table border=\"1\" class=\"dataframe\">\n",
       "  <thead>\n",
       "    <tr style=\"text-align: right;\">\n",
       "      <th></th>\n",
       "      <th>School Type</th>\n",
       "      <th>Total Students</th>\n",
       "      <th>Total School Budget</th>\n",
       "      <th>Per Student Budget</th>\n",
       "      <th>Average Math Score</th>\n",
       "      <th>Average Reading Score</th>\n",
       "      <th>% Passing Math</th>\n",
       "      <th>% Passing Reading</th>\n",
       "      <th>Overall Passing Rate</th>\n",
       "    </tr>\n",
       "  </thead>\n",
       "  <tbody>\n",
       "    <tr>\n",
       "      <th>Bailey High School</th>\n",
       "      <td>District</td>\n",
       "      <td>4976</td>\n",
       "      <td>3124928</td>\n",
       "      <td>628.0</td>\n",
       "      <td>77.048432</td>\n",
       "      <td>81.033963</td>\n",
       "      <td>66.680064</td>\n",
       "      <td>81.933280</td>\n",
       "      <td>74.306672</td>\n",
       "    </tr>\n",
       "    <tr>\n",
       "      <th>Cabrera High School</th>\n",
       "      <td>Charter</td>\n",
       "      <td>1858</td>\n",
       "      <td>1081356</td>\n",
       "      <td>582.0</td>\n",
       "      <td>83.061895</td>\n",
       "      <td>83.975780</td>\n",
       "      <td>94.133477</td>\n",
       "      <td>97.039828</td>\n",
       "      <td>95.586652</td>\n",
       "    </tr>\n",
       "    <tr>\n",
       "      <th>Figueroa High School</th>\n",
       "      <td>District</td>\n",
       "      <td>2949</td>\n",
       "      <td>1884411</td>\n",
       "      <td>639.0</td>\n",
       "      <td>76.711767</td>\n",
       "      <td>81.158020</td>\n",
       "      <td>65.988471</td>\n",
       "      <td>80.739234</td>\n",
       "      <td>73.363852</td>\n",
       "    </tr>\n",
       "    <tr>\n",
       "      <th>Ford High School</th>\n",
       "      <td>District</td>\n",
       "      <td>2739</td>\n",
       "      <td>1763916</td>\n",
       "      <td>644.0</td>\n",
       "      <td>77.102592</td>\n",
       "      <td>80.746258</td>\n",
       "      <td>68.309602</td>\n",
       "      <td>79.299014</td>\n",
       "      <td>73.804308</td>\n",
       "    </tr>\n",
       "    <tr>\n",
       "      <th>Griffin High School</th>\n",
       "      <td>Charter</td>\n",
       "      <td>1468</td>\n",
       "      <td>917500</td>\n",
       "      <td>625.0</td>\n",
       "      <td>83.351499</td>\n",
       "      <td>83.816757</td>\n",
       "      <td>93.392371</td>\n",
       "      <td>97.138965</td>\n",
       "      <td>95.265668</td>\n",
       "    </tr>\n",
       "    <tr>\n",
       "      <th>Hernandez High School</th>\n",
       "      <td>District</td>\n",
       "      <td>4635</td>\n",
       "      <td>3022020</td>\n",
       "      <td>652.0</td>\n",
       "      <td>77.289752</td>\n",
       "      <td>80.934412</td>\n",
       "      <td>66.752967</td>\n",
       "      <td>80.862999</td>\n",
       "      <td>73.807983</td>\n",
       "    </tr>\n",
       "    <tr>\n",
       "      <th>Holden High School</th>\n",
       "      <td>Charter</td>\n",
       "      <td>427</td>\n",
       "      <td>248087</td>\n",
       "      <td>581.0</td>\n",
       "      <td>83.803279</td>\n",
       "      <td>83.814988</td>\n",
       "      <td>92.505855</td>\n",
       "      <td>96.252927</td>\n",
       "      <td>94.379391</td>\n",
       "    </tr>\n",
       "    <tr>\n",
       "      <th>Huang High School</th>\n",
       "      <td>District</td>\n",
       "      <td>2917</td>\n",
       "      <td>1910635</td>\n",
       "      <td>655.0</td>\n",
       "      <td>76.629414</td>\n",
       "      <td>81.182722</td>\n",
       "      <td>65.683922</td>\n",
       "      <td>81.316421</td>\n",
       "      <td>73.500171</td>\n",
       "    </tr>\n",
       "    <tr>\n",
       "      <th>Johnson High School</th>\n",
       "      <td>District</td>\n",
       "      <td>4761</td>\n",
       "      <td>3094650</td>\n",
       "      <td>650.0</td>\n",
       "      <td>77.072464</td>\n",
       "      <td>80.966394</td>\n",
       "      <td>66.057551</td>\n",
       "      <td>81.222432</td>\n",
       "      <td>73.639992</td>\n",
       "    </tr>\n",
       "    <tr>\n",
       "      <th>Pena High School</th>\n",
       "      <td>Charter</td>\n",
       "      <td>962</td>\n",
       "      <td>585858</td>\n",
       "      <td>609.0</td>\n",
       "      <td>83.839917</td>\n",
       "      <td>84.044699</td>\n",
       "      <td>94.594595</td>\n",
       "      <td>95.945946</td>\n",
       "      <td>95.270270</td>\n",
       "    </tr>\n",
       "    <tr>\n",
       "      <th>Rodriguez High School</th>\n",
       "      <td>District</td>\n",
       "      <td>3999</td>\n",
       "      <td>2547363</td>\n",
       "      <td>637.0</td>\n",
       "      <td>76.842711</td>\n",
       "      <td>80.744686</td>\n",
       "      <td>66.366592</td>\n",
       "      <td>80.220055</td>\n",
       "      <td>73.293323</td>\n",
       "    </tr>\n",
       "    <tr>\n",
       "      <th>Shelton High School</th>\n",
       "      <td>Charter</td>\n",
       "      <td>1761</td>\n",
       "      <td>1056600</td>\n",
       "      <td>600.0</td>\n",
       "      <td>83.359455</td>\n",
       "      <td>83.725724</td>\n",
       "      <td>93.867121</td>\n",
       "      <td>95.854628</td>\n",
       "      <td>94.860875</td>\n",
       "    </tr>\n",
       "    <tr>\n",
       "      <th>Thomas High School</th>\n",
       "      <td>Charter</td>\n",
       "      <td>1635</td>\n",
       "      <td>1043130</td>\n",
       "      <td>638.0</td>\n",
       "      <td>83.418349</td>\n",
       "      <td>83.848930</td>\n",
       "      <td>93.272171</td>\n",
       "      <td>97.308869</td>\n",
       "      <td>95.290520</td>\n",
       "    </tr>\n",
       "    <tr>\n",
       "      <th>Wilson High School</th>\n",
       "      <td>Charter</td>\n",
       "      <td>2283</td>\n",
       "      <td>1319574</td>\n",
       "      <td>578.0</td>\n",
       "      <td>83.274201</td>\n",
       "      <td>83.989488</td>\n",
       "      <td>93.867718</td>\n",
       "      <td>96.539641</td>\n",
       "      <td>95.203679</td>\n",
       "    </tr>\n",
       "    <tr>\n",
       "      <th>Wright High School</th>\n",
       "      <td>Charter</td>\n",
       "      <td>1800</td>\n",
       "      <td>1049400</td>\n",
       "      <td>583.0</td>\n",
       "      <td>83.682222</td>\n",
       "      <td>83.955000</td>\n",
       "      <td>93.333333</td>\n",
       "      <td>96.611111</td>\n",
       "      <td>94.972222</td>\n",
       "    </tr>\n",
       "  </tbody>\n",
       "</table>\n",
       "</div>"
      ],
      "text/plain": [
       "                      School Type  Total Students  Total School Budget  \\\n",
       "Bailey High School       District            4976              3124928   \n",
       "Cabrera High School       Charter            1858              1081356   \n",
       "Figueroa High School     District            2949              1884411   \n",
       "Ford High School         District            2739              1763916   \n",
       "Griffin High School       Charter            1468               917500   \n",
       "Hernandez High School    District            4635              3022020   \n",
       "Holden High School        Charter             427               248087   \n",
       "Huang High School        District            2917              1910635   \n",
       "Johnson High School      District            4761              3094650   \n",
       "Pena High School          Charter             962               585858   \n",
       "Rodriguez High School    District            3999              2547363   \n",
       "Shelton High School       Charter            1761              1056600   \n",
       "Thomas High School        Charter            1635              1043130   \n",
       "Wilson High School        Charter            2283              1319574   \n",
       "Wright High School        Charter            1800              1049400   \n",
       "\n",
       "                       Per Student Budget  Average Math Score  \\\n",
       "Bailey High School                  628.0           77.048432   \n",
       "Cabrera High School                 582.0           83.061895   \n",
       "Figueroa High School                639.0           76.711767   \n",
       "Ford High School                    644.0           77.102592   \n",
       "Griffin High School                 625.0           83.351499   \n",
       "Hernandez High School               652.0           77.289752   \n",
       "Holden High School                  581.0           83.803279   \n",
       "Huang High School                   655.0           76.629414   \n",
       "Johnson High School                 650.0           77.072464   \n",
       "Pena High School                    609.0           83.839917   \n",
       "Rodriguez High School               637.0           76.842711   \n",
       "Shelton High School                 600.0           83.359455   \n",
       "Thomas High School                  638.0           83.418349   \n",
       "Wilson High School                  578.0           83.274201   \n",
       "Wright High School                  583.0           83.682222   \n",
       "\n",
       "                       Average Reading Score  % Passing Math  \\\n",
       "Bailey High School                 81.033963       66.680064   \n",
       "Cabrera High School                83.975780       94.133477   \n",
       "Figueroa High School               81.158020       65.988471   \n",
       "Ford High School                   80.746258       68.309602   \n",
       "Griffin High School                83.816757       93.392371   \n",
       "Hernandez High School              80.934412       66.752967   \n",
       "Holden High School                 83.814988       92.505855   \n",
       "Huang High School                  81.182722       65.683922   \n",
       "Johnson High School                80.966394       66.057551   \n",
       "Pena High School                   84.044699       94.594595   \n",
       "Rodriguez High School              80.744686       66.366592   \n",
       "Shelton High School                83.725724       93.867121   \n",
       "Thomas High School                 83.848930       93.272171   \n",
       "Wilson High School                 83.989488       93.867718   \n",
       "Wright High School                 83.955000       93.333333   \n",
       "\n",
       "                       % Passing Reading  Overall Passing Rate  \n",
       "Bailey High School             81.933280             74.306672  \n",
       "Cabrera High School            97.039828             95.586652  \n",
       "Figueroa High School           80.739234             73.363852  \n",
       "Ford High School               79.299014             73.804308  \n",
       "Griffin High School            97.138965             95.265668  \n",
       "Hernandez High School          80.862999             73.807983  \n",
       "Holden High School             96.252927             94.379391  \n",
       "Huang High School              81.316421             73.500171  \n",
       "Johnson High School            81.222432             73.639992  \n",
       "Pena High School               95.945946             95.270270  \n",
       "Rodriguez High School          80.220055             73.293323  \n",
       "Shelton High School            95.854628             94.860875  \n",
       "Thomas High School             97.308869             95.290520  \n",
       "Wilson High School             96.539641             95.203679  \n",
       "Wright High School             96.611111             94.972222  "
      ]
     },
     "execution_count": 34,
     "metadata": {},
     "output_type": "execute_result"
    }
   ],
   "source": [
    "# Arranging the columns the way that it is required\n",
    "school_summary_df = school_summary_df[['School Type', 'Total Students', 'Total School Budget',\n",
    "                   'Per Student Budget', 'Average Math Score', 'Average Reading Score',\n",
    "                   '% Passing Math', '% Passing Reading', 'Overall Passing Rate']]\n",
    "school_summary_df"
   ]
  },
  {
   "cell_type": "markdown",
   "metadata": {},
   "source": [
    "# School Summary"
   ]
  },
  {
   "cell_type": "code",
   "execution_count": 35,
   "metadata": {},
   "outputs": [
    {
     "data": {
      "text/html": [
       "<style  type=\"text/css\" >\n",
       "</style>  \n",
       "<table id=\"T_6ecbd152_563e_11e8_84a9_a8667f22f1d8\" > \n",
       "<thead>    <tr> \n",
       "        <th class=\"blank level0\" ></th> \n",
       "        <th class=\"col_heading level0 col0\" >School Type</th> \n",
       "        <th class=\"col_heading level0 col1\" >Total Students</th> \n",
       "        <th class=\"col_heading level0 col2\" >Total School Budget</th> \n",
       "        <th class=\"col_heading level0 col3\" >Per Student Budget</th> \n",
       "        <th class=\"col_heading level0 col4\" >Average Math Score</th> \n",
       "        <th class=\"col_heading level0 col5\" >Average Reading Score</th> \n",
       "        <th class=\"col_heading level0 col6\" >% Passing Math</th> \n",
       "        <th class=\"col_heading level0 col7\" >% Passing Reading</th> \n",
       "        <th class=\"col_heading level0 col8\" >Overall Passing Rate</th> \n",
       "    </tr></thead> \n",
       "<tbody>    <tr> \n",
       "        <th id=\"T_6ecbd152_563e_11e8_84a9_a8667f22f1d8level0_row0\" class=\"row_heading level0 row0\" >Bailey High School</th> \n",
       "        <td id=\"T_6ecbd152_563e_11e8_84a9_a8667f22f1d8row0_col0\" class=\"data row0 col0\" >District</td> \n",
       "        <td id=\"T_6ecbd152_563e_11e8_84a9_a8667f22f1d8row0_col1\" class=\"data row0 col1\" >4976</td> \n",
       "        <td id=\"T_6ecbd152_563e_11e8_84a9_a8667f22f1d8row0_col2\" class=\"data row0 col2\" >$3,124,928.00</td> \n",
       "        <td id=\"T_6ecbd152_563e_11e8_84a9_a8667f22f1d8row0_col3\" class=\"data row0 col3\" >$628.00</td> \n",
       "        <td id=\"T_6ecbd152_563e_11e8_84a9_a8667f22f1d8row0_col4\" class=\"data row0 col4\" >77.0484</td> \n",
       "        <td id=\"T_6ecbd152_563e_11e8_84a9_a8667f22f1d8row0_col5\" class=\"data row0 col5\" >81.034</td> \n",
       "        <td id=\"T_6ecbd152_563e_11e8_84a9_a8667f22f1d8row0_col6\" class=\"data row0 col6\" >66.6801</td> \n",
       "        <td id=\"T_6ecbd152_563e_11e8_84a9_a8667f22f1d8row0_col7\" class=\"data row0 col7\" >81.9333</td> \n",
       "        <td id=\"T_6ecbd152_563e_11e8_84a9_a8667f22f1d8row0_col8\" class=\"data row0 col8\" >74.3067</td> \n",
       "    </tr>    <tr> \n",
       "        <th id=\"T_6ecbd152_563e_11e8_84a9_a8667f22f1d8level0_row1\" class=\"row_heading level0 row1\" >Cabrera High School</th> \n",
       "        <td id=\"T_6ecbd152_563e_11e8_84a9_a8667f22f1d8row1_col0\" class=\"data row1 col0\" >Charter</td> \n",
       "        <td id=\"T_6ecbd152_563e_11e8_84a9_a8667f22f1d8row1_col1\" class=\"data row1 col1\" >1858</td> \n",
       "        <td id=\"T_6ecbd152_563e_11e8_84a9_a8667f22f1d8row1_col2\" class=\"data row1 col2\" >$1,081,356.00</td> \n",
       "        <td id=\"T_6ecbd152_563e_11e8_84a9_a8667f22f1d8row1_col3\" class=\"data row1 col3\" >$582.00</td> \n",
       "        <td id=\"T_6ecbd152_563e_11e8_84a9_a8667f22f1d8row1_col4\" class=\"data row1 col4\" >83.0619</td> \n",
       "        <td id=\"T_6ecbd152_563e_11e8_84a9_a8667f22f1d8row1_col5\" class=\"data row1 col5\" >83.9758</td> \n",
       "        <td id=\"T_6ecbd152_563e_11e8_84a9_a8667f22f1d8row1_col6\" class=\"data row1 col6\" >94.1335</td> \n",
       "        <td id=\"T_6ecbd152_563e_11e8_84a9_a8667f22f1d8row1_col7\" class=\"data row1 col7\" >97.0398</td> \n",
       "        <td id=\"T_6ecbd152_563e_11e8_84a9_a8667f22f1d8row1_col8\" class=\"data row1 col8\" >95.5867</td> \n",
       "    </tr>    <tr> \n",
       "        <th id=\"T_6ecbd152_563e_11e8_84a9_a8667f22f1d8level0_row2\" class=\"row_heading level0 row2\" >Figueroa High School</th> \n",
       "        <td id=\"T_6ecbd152_563e_11e8_84a9_a8667f22f1d8row2_col0\" class=\"data row2 col0\" >District</td> \n",
       "        <td id=\"T_6ecbd152_563e_11e8_84a9_a8667f22f1d8row2_col1\" class=\"data row2 col1\" >2949</td> \n",
       "        <td id=\"T_6ecbd152_563e_11e8_84a9_a8667f22f1d8row2_col2\" class=\"data row2 col2\" >$1,884,411.00</td> \n",
       "        <td id=\"T_6ecbd152_563e_11e8_84a9_a8667f22f1d8row2_col3\" class=\"data row2 col3\" >$639.00</td> \n",
       "        <td id=\"T_6ecbd152_563e_11e8_84a9_a8667f22f1d8row2_col4\" class=\"data row2 col4\" >76.7118</td> \n",
       "        <td id=\"T_6ecbd152_563e_11e8_84a9_a8667f22f1d8row2_col5\" class=\"data row2 col5\" >81.158</td> \n",
       "        <td id=\"T_6ecbd152_563e_11e8_84a9_a8667f22f1d8row2_col6\" class=\"data row2 col6\" >65.9885</td> \n",
       "        <td id=\"T_6ecbd152_563e_11e8_84a9_a8667f22f1d8row2_col7\" class=\"data row2 col7\" >80.7392</td> \n",
       "        <td id=\"T_6ecbd152_563e_11e8_84a9_a8667f22f1d8row2_col8\" class=\"data row2 col8\" >73.3639</td> \n",
       "    </tr>    <tr> \n",
       "        <th id=\"T_6ecbd152_563e_11e8_84a9_a8667f22f1d8level0_row3\" class=\"row_heading level0 row3\" >Ford High School</th> \n",
       "        <td id=\"T_6ecbd152_563e_11e8_84a9_a8667f22f1d8row3_col0\" class=\"data row3 col0\" >District</td> \n",
       "        <td id=\"T_6ecbd152_563e_11e8_84a9_a8667f22f1d8row3_col1\" class=\"data row3 col1\" >2739</td> \n",
       "        <td id=\"T_6ecbd152_563e_11e8_84a9_a8667f22f1d8row3_col2\" class=\"data row3 col2\" >$1,763,916.00</td> \n",
       "        <td id=\"T_6ecbd152_563e_11e8_84a9_a8667f22f1d8row3_col3\" class=\"data row3 col3\" >$644.00</td> \n",
       "        <td id=\"T_6ecbd152_563e_11e8_84a9_a8667f22f1d8row3_col4\" class=\"data row3 col4\" >77.1026</td> \n",
       "        <td id=\"T_6ecbd152_563e_11e8_84a9_a8667f22f1d8row3_col5\" class=\"data row3 col5\" >80.7463</td> \n",
       "        <td id=\"T_6ecbd152_563e_11e8_84a9_a8667f22f1d8row3_col6\" class=\"data row3 col6\" >68.3096</td> \n",
       "        <td id=\"T_6ecbd152_563e_11e8_84a9_a8667f22f1d8row3_col7\" class=\"data row3 col7\" >79.299</td> \n",
       "        <td id=\"T_6ecbd152_563e_11e8_84a9_a8667f22f1d8row3_col8\" class=\"data row3 col8\" >73.8043</td> \n",
       "    </tr>    <tr> \n",
       "        <th id=\"T_6ecbd152_563e_11e8_84a9_a8667f22f1d8level0_row4\" class=\"row_heading level0 row4\" >Griffin High School</th> \n",
       "        <td id=\"T_6ecbd152_563e_11e8_84a9_a8667f22f1d8row4_col0\" class=\"data row4 col0\" >Charter</td> \n",
       "        <td id=\"T_6ecbd152_563e_11e8_84a9_a8667f22f1d8row4_col1\" class=\"data row4 col1\" >1468</td> \n",
       "        <td id=\"T_6ecbd152_563e_11e8_84a9_a8667f22f1d8row4_col2\" class=\"data row4 col2\" >$917,500.00</td> \n",
       "        <td id=\"T_6ecbd152_563e_11e8_84a9_a8667f22f1d8row4_col3\" class=\"data row4 col3\" >$625.00</td> \n",
       "        <td id=\"T_6ecbd152_563e_11e8_84a9_a8667f22f1d8row4_col4\" class=\"data row4 col4\" >83.3515</td> \n",
       "        <td id=\"T_6ecbd152_563e_11e8_84a9_a8667f22f1d8row4_col5\" class=\"data row4 col5\" >83.8168</td> \n",
       "        <td id=\"T_6ecbd152_563e_11e8_84a9_a8667f22f1d8row4_col6\" class=\"data row4 col6\" >93.3924</td> \n",
       "        <td id=\"T_6ecbd152_563e_11e8_84a9_a8667f22f1d8row4_col7\" class=\"data row4 col7\" >97.139</td> \n",
       "        <td id=\"T_6ecbd152_563e_11e8_84a9_a8667f22f1d8row4_col8\" class=\"data row4 col8\" >95.2657</td> \n",
       "    </tr>    <tr> \n",
       "        <th id=\"T_6ecbd152_563e_11e8_84a9_a8667f22f1d8level0_row5\" class=\"row_heading level0 row5\" >Hernandez High School</th> \n",
       "        <td id=\"T_6ecbd152_563e_11e8_84a9_a8667f22f1d8row5_col0\" class=\"data row5 col0\" >District</td> \n",
       "        <td id=\"T_6ecbd152_563e_11e8_84a9_a8667f22f1d8row5_col1\" class=\"data row5 col1\" >4635</td> \n",
       "        <td id=\"T_6ecbd152_563e_11e8_84a9_a8667f22f1d8row5_col2\" class=\"data row5 col2\" >$3,022,020.00</td> \n",
       "        <td id=\"T_6ecbd152_563e_11e8_84a9_a8667f22f1d8row5_col3\" class=\"data row5 col3\" >$652.00</td> \n",
       "        <td id=\"T_6ecbd152_563e_11e8_84a9_a8667f22f1d8row5_col4\" class=\"data row5 col4\" >77.2898</td> \n",
       "        <td id=\"T_6ecbd152_563e_11e8_84a9_a8667f22f1d8row5_col5\" class=\"data row5 col5\" >80.9344</td> \n",
       "        <td id=\"T_6ecbd152_563e_11e8_84a9_a8667f22f1d8row5_col6\" class=\"data row5 col6\" >66.753</td> \n",
       "        <td id=\"T_6ecbd152_563e_11e8_84a9_a8667f22f1d8row5_col7\" class=\"data row5 col7\" >80.863</td> \n",
       "        <td id=\"T_6ecbd152_563e_11e8_84a9_a8667f22f1d8row5_col8\" class=\"data row5 col8\" >73.808</td> \n",
       "    </tr>    <tr> \n",
       "        <th id=\"T_6ecbd152_563e_11e8_84a9_a8667f22f1d8level0_row6\" class=\"row_heading level0 row6\" >Holden High School</th> \n",
       "        <td id=\"T_6ecbd152_563e_11e8_84a9_a8667f22f1d8row6_col0\" class=\"data row6 col0\" >Charter</td> \n",
       "        <td id=\"T_6ecbd152_563e_11e8_84a9_a8667f22f1d8row6_col1\" class=\"data row6 col1\" >427</td> \n",
       "        <td id=\"T_6ecbd152_563e_11e8_84a9_a8667f22f1d8row6_col2\" class=\"data row6 col2\" >$248,087.00</td> \n",
       "        <td id=\"T_6ecbd152_563e_11e8_84a9_a8667f22f1d8row6_col3\" class=\"data row6 col3\" >$581.00</td> \n",
       "        <td id=\"T_6ecbd152_563e_11e8_84a9_a8667f22f1d8row6_col4\" class=\"data row6 col4\" >83.8033</td> \n",
       "        <td id=\"T_6ecbd152_563e_11e8_84a9_a8667f22f1d8row6_col5\" class=\"data row6 col5\" >83.815</td> \n",
       "        <td id=\"T_6ecbd152_563e_11e8_84a9_a8667f22f1d8row6_col6\" class=\"data row6 col6\" >92.5059</td> \n",
       "        <td id=\"T_6ecbd152_563e_11e8_84a9_a8667f22f1d8row6_col7\" class=\"data row6 col7\" >96.2529</td> \n",
       "        <td id=\"T_6ecbd152_563e_11e8_84a9_a8667f22f1d8row6_col8\" class=\"data row6 col8\" >94.3794</td> \n",
       "    </tr>    <tr> \n",
       "        <th id=\"T_6ecbd152_563e_11e8_84a9_a8667f22f1d8level0_row7\" class=\"row_heading level0 row7\" >Huang High School</th> \n",
       "        <td id=\"T_6ecbd152_563e_11e8_84a9_a8667f22f1d8row7_col0\" class=\"data row7 col0\" >District</td> \n",
       "        <td id=\"T_6ecbd152_563e_11e8_84a9_a8667f22f1d8row7_col1\" class=\"data row7 col1\" >2917</td> \n",
       "        <td id=\"T_6ecbd152_563e_11e8_84a9_a8667f22f1d8row7_col2\" class=\"data row7 col2\" >$1,910,635.00</td> \n",
       "        <td id=\"T_6ecbd152_563e_11e8_84a9_a8667f22f1d8row7_col3\" class=\"data row7 col3\" >$655.00</td> \n",
       "        <td id=\"T_6ecbd152_563e_11e8_84a9_a8667f22f1d8row7_col4\" class=\"data row7 col4\" >76.6294</td> \n",
       "        <td id=\"T_6ecbd152_563e_11e8_84a9_a8667f22f1d8row7_col5\" class=\"data row7 col5\" >81.1827</td> \n",
       "        <td id=\"T_6ecbd152_563e_11e8_84a9_a8667f22f1d8row7_col6\" class=\"data row7 col6\" >65.6839</td> \n",
       "        <td id=\"T_6ecbd152_563e_11e8_84a9_a8667f22f1d8row7_col7\" class=\"data row7 col7\" >81.3164</td> \n",
       "        <td id=\"T_6ecbd152_563e_11e8_84a9_a8667f22f1d8row7_col8\" class=\"data row7 col8\" >73.5002</td> \n",
       "    </tr>    <tr> \n",
       "        <th id=\"T_6ecbd152_563e_11e8_84a9_a8667f22f1d8level0_row8\" class=\"row_heading level0 row8\" >Johnson High School</th> \n",
       "        <td id=\"T_6ecbd152_563e_11e8_84a9_a8667f22f1d8row8_col0\" class=\"data row8 col0\" >District</td> \n",
       "        <td id=\"T_6ecbd152_563e_11e8_84a9_a8667f22f1d8row8_col1\" class=\"data row8 col1\" >4761</td> \n",
       "        <td id=\"T_6ecbd152_563e_11e8_84a9_a8667f22f1d8row8_col2\" class=\"data row8 col2\" >$3,094,650.00</td> \n",
       "        <td id=\"T_6ecbd152_563e_11e8_84a9_a8667f22f1d8row8_col3\" class=\"data row8 col3\" >$650.00</td> \n",
       "        <td id=\"T_6ecbd152_563e_11e8_84a9_a8667f22f1d8row8_col4\" class=\"data row8 col4\" >77.0725</td> \n",
       "        <td id=\"T_6ecbd152_563e_11e8_84a9_a8667f22f1d8row8_col5\" class=\"data row8 col5\" >80.9664</td> \n",
       "        <td id=\"T_6ecbd152_563e_11e8_84a9_a8667f22f1d8row8_col6\" class=\"data row8 col6\" >66.0576</td> \n",
       "        <td id=\"T_6ecbd152_563e_11e8_84a9_a8667f22f1d8row8_col7\" class=\"data row8 col7\" >81.2224</td> \n",
       "        <td id=\"T_6ecbd152_563e_11e8_84a9_a8667f22f1d8row8_col8\" class=\"data row8 col8\" >73.64</td> \n",
       "    </tr>    <tr> \n",
       "        <th id=\"T_6ecbd152_563e_11e8_84a9_a8667f22f1d8level0_row9\" class=\"row_heading level0 row9\" >Pena High School</th> \n",
       "        <td id=\"T_6ecbd152_563e_11e8_84a9_a8667f22f1d8row9_col0\" class=\"data row9 col0\" >Charter</td> \n",
       "        <td id=\"T_6ecbd152_563e_11e8_84a9_a8667f22f1d8row9_col1\" class=\"data row9 col1\" >962</td> \n",
       "        <td id=\"T_6ecbd152_563e_11e8_84a9_a8667f22f1d8row9_col2\" class=\"data row9 col2\" >$585,858.00</td> \n",
       "        <td id=\"T_6ecbd152_563e_11e8_84a9_a8667f22f1d8row9_col3\" class=\"data row9 col3\" >$609.00</td> \n",
       "        <td id=\"T_6ecbd152_563e_11e8_84a9_a8667f22f1d8row9_col4\" class=\"data row9 col4\" >83.8399</td> \n",
       "        <td id=\"T_6ecbd152_563e_11e8_84a9_a8667f22f1d8row9_col5\" class=\"data row9 col5\" >84.0447</td> \n",
       "        <td id=\"T_6ecbd152_563e_11e8_84a9_a8667f22f1d8row9_col6\" class=\"data row9 col6\" >94.5946</td> \n",
       "        <td id=\"T_6ecbd152_563e_11e8_84a9_a8667f22f1d8row9_col7\" class=\"data row9 col7\" >95.9459</td> \n",
       "        <td id=\"T_6ecbd152_563e_11e8_84a9_a8667f22f1d8row9_col8\" class=\"data row9 col8\" >95.2703</td> \n",
       "    </tr>    <tr> \n",
       "        <th id=\"T_6ecbd152_563e_11e8_84a9_a8667f22f1d8level0_row10\" class=\"row_heading level0 row10\" >Rodriguez High School</th> \n",
       "        <td id=\"T_6ecbd152_563e_11e8_84a9_a8667f22f1d8row10_col0\" class=\"data row10 col0\" >District</td> \n",
       "        <td id=\"T_6ecbd152_563e_11e8_84a9_a8667f22f1d8row10_col1\" class=\"data row10 col1\" >3999</td> \n",
       "        <td id=\"T_6ecbd152_563e_11e8_84a9_a8667f22f1d8row10_col2\" class=\"data row10 col2\" >$2,547,363.00</td> \n",
       "        <td id=\"T_6ecbd152_563e_11e8_84a9_a8667f22f1d8row10_col3\" class=\"data row10 col3\" >$637.00</td> \n",
       "        <td id=\"T_6ecbd152_563e_11e8_84a9_a8667f22f1d8row10_col4\" class=\"data row10 col4\" >76.8427</td> \n",
       "        <td id=\"T_6ecbd152_563e_11e8_84a9_a8667f22f1d8row10_col5\" class=\"data row10 col5\" >80.7447</td> \n",
       "        <td id=\"T_6ecbd152_563e_11e8_84a9_a8667f22f1d8row10_col6\" class=\"data row10 col6\" >66.3666</td> \n",
       "        <td id=\"T_6ecbd152_563e_11e8_84a9_a8667f22f1d8row10_col7\" class=\"data row10 col7\" >80.2201</td> \n",
       "        <td id=\"T_6ecbd152_563e_11e8_84a9_a8667f22f1d8row10_col8\" class=\"data row10 col8\" >73.2933</td> \n",
       "    </tr>    <tr> \n",
       "        <th id=\"T_6ecbd152_563e_11e8_84a9_a8667f22f1d8level0_row11\" class=\"row_heading level0 row11\" >Shelton High School</th> \n",
       "        <td id=\"T_6ecbd152_563e_11e8_84a9_a8667f22f1d8row11_col0\" class=\"data row11 col0\" >Charter</td> \n",
       "        <td id=\"T_6ecbd152_563e_11e8_84a9_a8667f22f1d8row11_col1\" class=\"data row11 col1\" >1761</td> \n",
       "        <td id=\"T_6ecbd152_563e_11e8_84a9_a8667f22f1d8row11_col2\" class=\"data row11 col2\" >$1,056,600.00</td> \n",
       "        <td id=\"T_6ecbd152_563e_11e8_84a9_a8667f22f1d8row11_col3\" class=\"data row11 col3\" >$600.00</td> \n",
       "        <td id=\"T_6ecbd152_563e_11e8_84a9_a8667f22f1d8row11_col4\" class=\"data row11 col4\" >83.3595</td> \n",
       "        <td id=\"T_6ecbd152_563e_11e8_84a9_a8667f22f1d8row11_col5\" class=\"data row11 col5\" >83.7257</td> \n",
       "        <td id=\"T_6ecbd152_563e_11e8_84a9_a8667f22f1d8row11_col6\" class=\"data row11 col6\" >93.8671</td> \n",
       "        <td id=\"T_6ecbd152_563e_11e8_84a9_a8667f22f1d8row11_col7\" class=\"data row11 col7\" >95.8546</td> \n",
       "        <td id=\"T_6ecbd152_563e_11e8_84a9_a8667f22f1d8row11_col8\" class=\"data row11 col8\" >94.8609</td> \n",
       "    </tr>    <tr> \n",
       "        <th id=\"T_6ecbd152_563e_11e8_84a9_a8667f22f1d8level0_row12\" class=\"row_heading level0 row12\" >Thomas High School</th> \n",
       "        <td id=\"T_6ecbd152_563e_11e8_84a9_a8667f22f1d8row12_col0\" class=\"data row12 col0\" >Charter</td> \n",
       "        <td id=\"T_6ecbd152_563e_11e8_84a9_a8667f22f1d8row12_col1\" class=\"data row12 col1\" >1635</td> \n",
       "        <td id=\"T_6ecbd152_563e_11e8_84a9_a8667f22f1d8row12_col2\" class=\"data row12 col2\" >$1,043,130.00</td> \n",
       "        <td id=\"T_6ecbd152_563e_11e8_84a9_a8667f22f1d8row12_col3\" class=\"data row12 col3\" >$638.00</td> \n",
       "        <td id=\"T_6ecbd152_563e_11e8_84a9_a8667f22f1d8row12_col4\" class=\"data row12 col4\" >83.4183</td> \n",
       "        <td id=\"T_6ecbd152_563e_11e8_84a9_a8667f22f1d8row12_col5\" class=\"data row12 col5\" >83.8489</td> \n",
       "        <td id=\"T_6ecbd152_563e_11e8_84a9_a8667f22f1d8row12_col6\" class=\"data row12 col6\" >93.2722</td> \n",
       "        <td id=\"T_6ecbd152_563e_11e8_84a9_a8667f22f1d8row12_col7\" class=\"data row12 col7\" >97.3089</td> \n",
       "        <td id=\"T_6ecbd152_563e_11e8_84a9_a8667f22f1d8row12_col8\" class=\"data row12 col8\" >95.2905</td> \n",
       "    </tr>    <tr> \n",
       "        <th id=\"T_6ecbd152_563e_11e8_84a9_a8667f22f1d8level0_row13\" class=\"row_heading level0 row13\" >Wilson High School</th> \n",
       "        <td id=\"T_6ecbd152_563e_11e8_84a9_a8667f22f1d8row13_col0\" class=\"data row13 col0\" >Charter</td> \n",
       "        <td id=\"T_6ecbd152_563e_11e8_84a9_a8667f22f1d8row13_col1\" class=\"data row13 col1\" >2283</td> \n",
       "        <td id=\"T_6ecbd152_563e_11e8_84a9_a8667f22f1d8row13_col2\" class=\"data row13 col2\" >$1,319,574.00</td> \n",
       "        <td id=\"T_6ecbd152_563e_11e8_84a9_a8667f22f1d8row13_col3\" class=\"data row13 col3\" >$578.00</td> \n",
       "        <td id=\"T_6ecbd152_563e_11e8_84a9_a8667f22f1d8row13_col4\" class=\"data row13 col4\" >83.2742</td> \n",
       "        <td id=\"T_6ecbd152_563e_11e8_84a9_a8667f22f1d8row13_col5\" class=\"data row13 col5\" >83.9895</td> \n",
       "        <td id=\"T_6ecbd152_563e_11e8_84a9_a8667f22f1d8row13_col6\" class=\"data row13 col6\" >93.8677</td> \n",
       "        <td id=\"T_6ecbd152_563e_11e8_84a9_a8667f22f1d8row13_col7\" class=\"data row13 col7\" >96.5396</td> \n",
       "        <td id=\"T_6ecbd152_563e_11e8_84a9_a8667f22f1d8row13_col8\" class=\"data row13 col8\" >95.2037</td> \n",
       "    </tr>    <tr> \n",
       "        <th id=\"T_6ecbd152_563e_11e8_84a9_a8667f22f1d8level0_row14\" class=\"row_heading level0 row14\" >Wright High School</th> \n",
       "        <td id=\"T_6ecbd152_563e_11e8_84a9_a8667f22f1d8row14_col0\" class=\"data row14 col0\" >Charter</td> \n",
       "        <td id=\"T_6ecbd152_563e_11e8_84a9_a8667f22f1d8row14_col1\" class=\"data row14 col1\" >1800</td> \n",
       "        <td id=\"T_6ecbd152_563e_11e8_84a9_a8667f22f1d8row14_col2\" class=\"data row14 col2\" >$1,049,400.00</td> \n",
       "        <td id=\"T_6ecbd152_563e_11e8_84a9_a8667f22f1d8row14_col3\" class=\"data row14 col3\" >$583.00</td> \n",
       "        <td id=\"T_6ecbd152_563e_11e8_84a9_a8667f22f1d8row14_col4\" class=\"data row14 col4\" >83.6822</td> \n",
       "        <td id=\"T_6ecbd152_563e_11e8_84a9_a8667f22f1d8row14_col5\" class=\"data row14 col5\" >83.955</td> \n",
       "        <td id=\"T_6ecbd152_563e_11e8_84a9_a8667f22f1d8row14_col6\" class=\"data row14 col6\" >93.3333</td> \n",
       "        <td id=\"T_6ecbd152_563e_11e8_84a9_a8667f22f1d8row14_col7\" class=\"data row14 col7\" >96.6111</td> \n",
       "        <td id=\"T_6ecbd152_563e_11e8_84a9_a8667f22f1d8row14_col8\" class=\"data row14 col8\" >94.9722</td> \n",
       "    </tr></tbody> \n",
       "</table> "
      ],
      "text/plain": [
       "<pandas.io.formats.style.Styler at 0x112834cc0>"
      ]
     },
     "execution_count": 35,
     "metadata": {},
     "output_type": "execute_result"
    }
   ],
   "source": [
    "# Format the columns\n",
    "school_summary_df.style.format ({\"Total School Budget\" : \"${:,.2f}\",\n",
    "                                \"Per Student Budget\" : \"${:,.2f}\"})"
   ]
  },
  {
   "cell_type": "markdown",
   "metadata": {},
   "source": [
    "# Top Performing Schools (By Passing Rate)"
   ]
  },
  {
   "cell_type": "code",
   "execution_count": 36,
   "metadata": {},
   "outputs": [
    {
     "data": {
      "text/html": [
       "<style  type=\"text/css\" >\n",
       "</style>  \n",
       "<table id=\"T_6ed632c8_563e_11e8_a675_a8667f22f1d8\" > \n",
       "<thead>    <tr> \n",
       "        <th class=\"blank level0\" ></th> \n",
       "        <th class=\"col_heading level0 col0\" >School Type</th> \n",
       "        <th class=\"col_heading level0 col1\" >Total Students</th> \n",
       "        <th class=\"col_heading level0 col2\" >Total School Budget</th> \n",
       "        <th class=\"col_heading level0 col3\" >Per Student Budget</th> \n",
       "        <th class=\"col_heading level0 col4\" >Average Math Score</th> \n",
       "        <th class=\"col_heading level0 col5\" >Average Reading Score</th> \n",
       "        <th class=\"col_heading level0 col6\" >% Passing Math</th> \n",
       "        <th class=\"col_heading level0 col7\" >% Passing Reading</th> \n",
       "        <th class=\"col_heading level0 col8\" >Overall Passing Rate</th> \n",
       "    </tr></thead> \n",
       "<tbody>    <tr> \n",
       "        <th id=\"T_6ed632c8_563e_11e8_a675_a8667f22f1d8level0_row0\" class=\"row_heading level0 row0\" >Cabrera High School</th> \n",
       "        <td id=\"T_6ed632c8_563e_11e8_a675_a8667f22f1d8row0_col0\" class=\"data row0 col0\" >Charter</td> \n",
       "        <td id=\"T_6ed632c8_563e_11e8_a675_a8667f22f1d8row0_col1\" class=\"data row0 col1\" >1858</td> \n",
       "        <td id=\"T_6ed632c8_563e_11e8_a675_a8667f22f1d8row0_col2\" class=\"data row0 col2\" >$1,081,356.00</td> \n",
       "        <td id=\"T_6ed632c8_563e_11e8_a675_a8667f22f1d8row0_col3\" class=\"data row0 col3\" >$582.00</td> \n",
       "        <td id=\"T_6ed632c8_563e_11e8_a675_a8667f22f1d8row0_col4\" class=\"data row0 col4\" >83.0619</td> \n",
       "        <td id=\"T_6ed632c8_563e_11e8_a675_a8667f22f1d8row0_col5\" class=\"data row0 col5\" >83.9758</td> \n",
       "        <td id=\"T_6ed632c8_563e_11e8_a675_a8667f22f1d8row0_col6\" class=\"data row0 col6\" >94.1335</td> \n",
       "        <td id=\"T_6ed632c8_563e_11e8_a675_a8667f22f1d8row0_col7\" class=\"data row0 col7\" >97.0398</td> \n",
       "        <td id=\"T_6ed632c8_563e_11e8_a675_a8667f22f1d8row0_col8\" class=\"data row0 col8\" >95.5867</td> \n",
       "    </tr>    <tr> \n",
       "        <th id=\"T_6ed632c8_563e_11e8_a675_a8667f22f1d8level0_row1\" class=\"row_heading level0 row1\" >Thomas High School</th> \n",
       "        <td id=\"T_6ed632c8_563e_11e8_a675_a8667f22f1d8row1_col0\" class=\"data row1 col0\" >Charter</td> \n",
       "        <td id=\"T_6ed632c8_563e_11e8_a675_a8667f22f1d8row1_col1\" class=\"data row1 col1\" >1635</td> \n",
       "        <td id=\"T_6ed632c8_563e_11e8_a675_a8667f22f1d8row1_col2\" class=\"data row1 col2\" >$1,043,130.00</td> \n",
       "        <td id=\"T_6ed632c8_563e_11e8_a675_a8667f22f1d8row1_col3\" class=\"data row1 col3\" >$638.00</td> \n",
       "        <td id=\"T_6ed632c8_563e_11e8_a675_a8667f22f1d8row1_col4\" class=\"data row1 col4\" >83.4183</td> \n",
       "        <td id=\"T_6ed632c8_563e_11e8_a675_a8667f22f1d8row1_col5\" class=\"data row1 col5\" >83.8489</td> \n",
       "        <td id=\"T_6ed632c8_563e_11e8_a675_a8667f22f1d8row1_col6\" class=\"data row1 col6\" >93.2722</td> \n",
       "        <td id=\"T_6ed632c8_563e_11e8_a675_a8667f22f1d8row1_col7\" class=\"data row1 col7\" >97.3089</td> \n",
       "        <td id=\"T_6ed632c8_563e_11e8_a675_a8667f22f1d8row1_col8\" class=\"data row1 col8\" >95.2905</td> \n",
       "    </tr>    <tr> \n",
       "        <th id=\"T_6ed632c8_563e_11e8_a675_a8667f22f1d8level0_row2\" class=\"row_heading level0 row2\" >Pena High School</th> \n",
       "        <td id=\"T_6ed632c8_563e_11e8_a675_a8667f22f1d8row2_col0\" class=\"data row2 col0\" >Charter</td> \n",
       "        <td id=\"T_6ed632c8_563e_11e8_a675_a8667f22f1d8row2_col1\" class=\"data row2 col1\" >962</td> \n",
       "        <td id=\"T_6ed632c8_563e_11e8_a675_a8667f22f1d8row2_col2\" class=\"data row2 col2\" >$585,858.00</td> \n",
       "        <td id=\"T_6ed632c8_563e_11e8_a675_a8667f22f1d8row2_col3\" class=\"data row2 col3\" >$609.00</td> \n",
       "        <td id=\"T_6ed632c8_563e_11e8_a675_a8667f22f1d8row2_col4\" class=\"data row2 col4\" >83.8399</td> \n",
       "        <td id=\"T_6ed632c8_563e_11e8_a675_a8667f22f1d8row2_col5\" class=\"data row2 col5\" >84.0447</td> \n",
       "        <td id=\"T_6ed632c8_563e_11e8_a675_a8667f22f1d8row2_col6\" class=\"data row2 col6\" >94.5946</td> \n",
       "        <td id=\"T_6ed632c8_563e_11e8_a675_a8667f22f1d8row2_col7\" class=\"data row2 col7\" >95.9459</td> \n",
       "        <td id=\"T_6ed632c8_563e_11e8_a675_a8667f22f1d8row2_col8\" class=\"data row2 col8\" >95.2703</td> \n",
       "    </tr>    <tr> \n",
       "        <th id=\"T_6ed632c8_563e_11e8_a675_a8667f22f1d8level0_row3\" class=\"row_heading level0 row3\" >Griffin High School</th> \n",
       "        <td id=\"T_6ed632c8_563e_11e8_a675_a8667f22f1d8row3_col0\" class=\"data row3 col0\" >Charter</td> \n",
       "        <td id=\"T_6ed632c8_563e_11e8_a675_a8667f22f1d8row3_col1\" class=\"data row3 col1\" >1468</td> \n",
       "        <td id=\"T_6ed632c8_563e_11e8_a675_a8667f22f1d8row3_col2\" class=\"data row3 col2\" >$917,500.00</td> \n",
       "        <td id=\"T_6ed632c8_563e_11e8_a675_a8667f22f1d8row3_col3\" class=\"data row3 col3\" >$625.00</td> \n",
       "        <td id=\"T_6ed632c8_563e_11e8_a675_a8667f22f1d8row3_col4\" class=\"data row3 col4\" >83.3515</td> \n",
       "        <td id=\"T_6ed632c8_563e_11e8_a675_a8667f22f1d8row3_col5\" class=\"data row3 col5\" >83.8168</td> \n",
       "        <td id=\"T_6ed632c8_563e_11e8_a675_a8667f22f1d8row3_col6\" class=\"data row3 col6\" >93.3924</td> \n",
       "        <td id=\"T_6ed632c8_563e_11e8_a675_a8667f22f1d8row3_col7\" class=\"data row3 col7\" >97.139</td> \n",
       "        <td id=\"T_6ed632c8_563e_11e8_a675_a8667f22f1d8row3_col8\" class=\"data row3 col8\" >95.2657</td> \n",
       "    </tr>    <tr> \n",
       "        <th id=\"T_6ed632c8_563e_11e8_a675_a8667f22f1d8level0_row4\" class=\"row_heading level0 row4\" >Wilson High School</th> \n",
       "        <td id=\"T_6ed632c8_563e_11e8_a675_a8667f22f1d8row4_col0\" class=\"data row4 col0\" >Charter</td> \n",
       "        <td id=\"T_6ed632c8_563e_11e8_a675_a8667f22f1d8row4_col1\" class=\"data row4 col1\" >2283</td> \n",
       "        <td id=\"T_6ed632c8_563e_11e8_a675_a8667f22f1d8row4_col2\" class=\"data row4 col2\" >$1,319,574.00</td> \n",
       "        <td id=\"T_6ed632c8_563e_11e8_a675_a8667f22f1d8row4_col3\" class=\"data row4 col3\" >$578.00</td> \n",
       "        <td id=\"T_6ed632c8_563e_11e8_a675_a8667f22f1d8row4_col4\" class=\"data row4 col4\" >83.2742</td> \n",
       "        <td id=\"T_6ed632c8_563e_11e8_a675_a8667f22f1d8row4_col5\" class=\"data row4 col5\" >83.9895</td> \n",
       "        <td id=\"T_6ed632c8_563e_11e8_a675_a8667f22f1d8row4_col6\" class=\"data row4 col6\" >93.8677</td> \n",
       "        <td id=\"T_6ed632c8_563e_11e8_a675_a8667f22f1d8row4_col7\" class=\"data row4 col7\" >96.5396</td> \n",
       "        <td id=\"T_6ed632c8_563e_11e8_a675_a8667f22f1d8row4_col8\" class=\"data row4 col8\" >95.2037</td> \n",
       "    </tr></tbody> \n",
       "</table> "
      ],
      "text/plain": [
       "<pandas.io.formats.style.Styler at 0x119702860>"
      ]
     },
     "execution_count": 36,
     "metadata": {},
     "output_type": "execute_result"
    }
   ],
   "source": [
    "# Sorting the data frame to obtain the top FIVE Overall Passing Rate Schools\n",
    "top_five_schools = school_summary_df.sort_values('Overall Passing Rate', ascending=False)\n",
    "top_five_schools.head(5).style.format ({\"Total School Budget\" : \"${:,.2f}\",\n",
    "                                \"Per Student Budget\" : \"${:,.2f}\"})"
   ]
  },
  {
   "cell_type": "markdown",
   "metadata": {},
   "source": [
    "# Bottom Performing Schools (By Passing Rate)"
   ]
  },
  {
   "cell_type": "code",
   "execution_count": 37,
   "metadata": {},
   "outputs": [
    {
     "data": {
      "text/html": [
       "<style  type=\"text/css\" >\n",
       "</style>  \n",
       "<table id=\"T_6eda36ac_563e_11e8_ab95_a8667f22f1d8\" > \n",
       "<thead>    <tr> \n",
       "        <th class=\"blank level0\" ></th> \n",
       "        <th class=\"col_heading level0 col0\" >School Type</th> \n",
       "        <th class=\"col_heading level0 col1\" >Total Students</th> \n",
       "        <th class=\"col_heading level0 col2\" >Total School Budget</th> \n",
       "        <th class=\"col_heading level0 col3\" >Per Student Budget</th> \n",
       "        <th class=\"col_heading level0 col4\" >Average Math Score</th> \n",
       "        <th class=\"col_heading level0 col5\" >Average Reading Score</th> \n",
       "        <th class=\"col_heading level0 col6\" >% Passing Math</th> \n",
       "        <th class=\"col_heading level0 col7\" >% Passing Reading</th> \n",
       "        <th class=\"col_heading level0 col8\" >Overall Passing Rate</th> \n",
       "    </tr></thead> \n",
       "<tbody>    <tr> \n",
       "        <th id=\"T_6eda36ac_563e_11e8_ab95_a8667f22f1d8level0_row0\" class=\"row_heading level0 row0\" >Rodriguez High School</th> \n",
       "        <td id=\"T_6eda36ac_563e_11e8_ab95_a8667f22f1d8row0_col0\" class=\"data row0 col0\" >District</td> \n",
       "        <td id=\"T_6eda36ac_563e_11e8_ab95_a8667f22f1d8row0_col1\" class=\"data row0 col1\" >3999</td> \n",
       "        <td id=\"T_6eda36ac_563e_11e8_ab95_a8667f22f1d8row0_col2\" class=\"data row0 col2\" >$2,547,363.00</td> \n",
       "        <td id=\"T_6eda36ac_563e_11e8_ab95_a8667f22f1d8row0_col3\" class=\"data row0 col3\" >$637.00</td> \n",
       "        <td id=\"T_6eda36ac_563e_11e8_ab95_a8667f22f1d8row0_col4\" class=\"data row0 col4\" >76.8427</td> \n",
       "        <td id=\"T_6eda36ac_563e_11e8_ab95_a8667f22f1d8row0_col5\" class=\"data row0 col5\" >80.7447</td> \n",
       "        <td id=\"T_6eda36ac_563e_11e8_ab95_a8667f22f1d8row0_col6\" class=\"data row0 col6\" >66.3666</td> \n",
       "        <td id=\"T_6eda36ac_563e_11e8_ab95_a8667f22f1d8row0_col7\" class=\"data row0 col7\" >80.2201</td> \n",
       "        <td id=\"T_6eda36ac_563e_11e8_ab95_a8667f22f1d8row0_col8\" class=\"data row0 col8\" >73.2933</td> \n",
       "    </tr>    <tr> \n",
       "        <th id=\"T_6eda36ac_563e_11e8_ab95_a8667f22f1d8level0_row1\" class=\"row_heading level0 row1\" >Figueroa High School</th> \n",
       "        <td id=\"T_6eda36ac_563e_11e8_ab95_a8667f22f1d8row1_col0\" class=\"data row1 col0\" >District</td> \n",
       "        <td id=\"T_6eda36ac_563e_11e8_ab95_a8667f22f1d8row1_col1\" class=\"data row1 col1\" >2949</td> \n",
       "        <td id=\"T_6eda36ac_563e_11e8_ab95_a8667f22f1d8row1_col2\" class=\"data row1 col2\" >$1,884,411.00</td> \n",
       "        <td id=\"T_6eda36ac_563e_11e8_ab95_a8667f22f1d8row1_col3\" class=\"data row1 col3\" >$639.00</td> \n",
       "        <td id=\"T_6eda36ac_563e_11e8_ab95_a8667f22f1d8row1_col4\" class=\"data row1 col4\" >76.7118</td> \n",
       "        <td id=\"T_6eda36ac_563e_11e8_ab95_a8667f22f1d8row1_col5\" class=\"data row1 col5\" >81.158</td> \n",
       "        <td id=\"T_6eda36ac_563e_11e8_ab95_a8667f22f1d8row1_col6\" class=\"data row1 col6\" >65.9885</td> \n",
       "        <td id=\"T_6eda36ac_563e_11e8_ab95_a8667f22f1d8row1_col7\" class=\"data row1 col7\" >80.7392</td> \n",
       "        <td id=\"T_6eda36ac_563e_11e8_ab95_a8667f22f1d8row1_col8\" class=\"data row1 col8\" >73.3639</td> \n",
       "    </tr>    <tr> \n",
       "        <th id=\"T_6eda36ac_563e_11e8_ab95_a8667f22f1d8level0_row2\" class=\"row_heading level0 row2\" >Huang High School</th> \n",
       "        <td id=\"T_6eda36ac_563e_11e8_ab95_a8667f22f1d8row2_col0\" class=\"data row2 col0\" >District</td> \n",
       "        <td id=\"T_6eda36ac_563e_11e8_ab95_a8667f22f1d8row2_col1\" class=\"data row2 col1\" >2917</td> \n",
       "        <td id=\"T_6eda36ac_563e_11e8_ab95_a8667f22f1d8row2_col2\" class=\"data row2 col2\" >$1,910,635.00</td> \n",
       "        <td id=\"T_6eda36ac_563e_11e8_ab95_a8667f22f1d8row2_col3\" class=\"data row2 col3\" >$655.00</td> \n",
       "        <td id=\"T_6eda36ac_563e_11e8_ab95_a8667f22f1d8row2_col4\" class=\"data row2 col4\" >76.6294</td> \n",
       "        <td id=\"T_6eda36ac_563e_11e8_ab95_a8667f22f1d8row2_col5\" class=\"data row2 col5\" >81.1827</td> \n",
       "        <td id=\"T_6eda36ac_563e_11e8_ab95_a8667f22f1d8row2_col6\" class=\"data row2 col6\" >65.6839</td> \n",
       "        <td id=\"T_6eda36ac_563e_11e8_ab95_a8667f22f1d8row2_col7\" class=\"data row2 col7\" >81.3164</td> \n",
       "        <td id=\"T_6eda36ac_563e_11e8_ab95_a8667f22f1d8row2_col8\" class=\"data row2 col8\" >73.5002</td> \n",
       "    </tr>    <tr> \n",
       "        <th id=\"T_6eda36ac_563e_11e8_ab95_a8667f22f1d8level0_row3\" class=\"row_heading level0 row3\" >Johnson High School</th> \n",
       "        <td id=\"T_6eda36ac_563e_11e8_ab95_a8667f22f1d8row3_col0\" class=\"data row3 col0\" >District</td> \n",
       "        <td id=\"T_6eda36ac_563e_11e8_ab95_a8667f22f1d8row3_col1\" class=\"data row3 col1\" >4761</td> \n",
       "        <td id=\"T_6eda36ac_563e_11e8_ab95_a8667f22f1d8row3_col2\" class=\"data row3 col2\" >$3,094,650.00</td> \n",
       "        <td id=\"T_6eda36ac_563e_11e8_ab95_a8667f22f1d8row3_col3\" class=\"data row3 col3\" >$650.00</td> \n",
       "        <td id=\"T_6eda36ac_563e_11e8_ab95_a8667f22f1d8row3_col4\" class=\"data row3 col4\" >77.0725</td> \n",
       "        <td id=\"T_6eda36ac_563e_11e8_ab95_a8667f22f1d8row3_col5\" class=\"data row3 col5\" >80.9664</td> \n",
       "        <td id=\"T_6eda36ac_563e_11e8_ab95_a8667f22f1d8row3_col6\" class=\"data row3 col6\" >66.0576</td> \n",
       "        <td id=\"T_6eda36ac_563e_11e8_ab95_a8667f22f1d8row3_col7\" class=\"data row3 col7\" >81.2224</td> \n",
       "        <td id=\"T_6eda36ac_563e_11e8_ab95_a8667f22f1d8row3_col8\" class=\"data row3 col8\" >73.64</td> \n",
       "    </tr>    <tr> \n",
       "        <th id=\"T_6eda36ac_563e_11e8_ab95_a8667f22f1d8level0_row4\" class=\"row_heading level0 row4\" >Ford High School</th> \n",
       "        <td id=\"T_6eda36ac_563e_11e8_ab95_a8667f22f1d8row4_col0\" class=\"data row4 col0\" >District</td> \n",
       "        <td id=\"T_6eda36ac_563e_11e8_ab95_a8667f22f1d8row4_col1\" class=\"data row4 col1\" >2739</td> \n",
       "        <td id=\"T_6eda36ac_563e_11e8_ab95_a8667f22f1d8row4_col2\" class=\"data row4 col2\" >$1,763,916.00</td> \n",
       "        <td id=\"T_6eda36ac_563e_11e8_ab95_a8667f22f1d8row4_col3\" class=\"data row4 col3\" >$644.00</td> \n",
       "        <td id=\"T_6eda36ac_563e_11e8_ab95_a8667f22f1d8row4_col4\" class=\"data row4 col4\" >77.1026</td> \n",
       "        <td id=\"T_6eda36ac_563e_11e8_ab95_a8667f22f1d8row4_col5\" class=\"data row4 col5\" >80.7463</td> \n",
       "        <td id=\"T_6eda36ac_563e_11e8_ab95_a8667f22f1d8row4_col6\" class=\"data row4 col6\" >68.3096</td> \n",
       "        <td id=\"T_6eda36ac_563e_11e8_ab95_a8667f22f1d8row4_col7\" class=\"data row4 col7\" >79.299</td> \n",
       "        <td id=\"T_6eda36ac_563e_11e8_ab95_a8667f22f1d8row4_col8\" class=\"data row4 col8\" >73.8043</td> \n",
       "    </tr></tbody> \n",
       "</table> "
      ],
      "text/plain": [
       "<pandas.io.formats.style.Styler at 0x119702f60>"
      ]
     },
     "execution_count": 37,
     "metadata": {},
     "output_type": "execute_result"
    }
   ],
   "source": [
    "# Sorting the data frame to get the Bottom FIVE Performing Schools (By Passing Rate)\n",
    "bottom_five_schools = school_summary_df.sort_values('Overall Passing Rate', ascending=True)\n",
    "bottom_five_schools.head(5).style.format ({\"Total School Budget\" : \"${:,.2f}\",\n",
    "                                \"Per Student Budget\" : \"${:,.2f}\"})"
   ]
  },
  {
   "cell_type": "code",
   "execution_count": 38,
   "metadata": {},
   "outputs": [],
   "source": [
    "# Getting the Math Scores by Grade\n",
    "math_nine = students.loc[students[\"grade\"] == \"9th\"].groupby(\"school\")[\"math_score\"].mean()\n",
    "math_ten = students.loc[students[\"grade\"] == \"10th\"].groupby(\"school\")[\"math_score\"].mean()\n",
    "math_eleven = students.loc[students[\"grade\"] == \"11th\"].groupby(\"school\")[\"math_score\"].mean()\n",
    "math_twelve = students.loc[students[\"grade\"] == \"12th\"].groupby(\"school\")[\"math_score\"].mean()"
   ]
  },
  {
   "cell_type": "code",
   "execution_count": 39,
   "metadata": {},
   "outputs": [],
   "source": [
    "# Create a DataFrame with above information and set the index to School\n",
    "math_score_grade = pd.DataFrame({\"9th\" : math_nine, \"10th\" : math_ten, \"11th\" : math_eleven,\n",
    "                            \"12th\" : math_twelve})\n",
    "math_score_grade = math_score_grade[[\"9th\", \"10th\", \"11th\", \"12th\"]]"
   ]
  },
  {
   "cell_type": "markdown",
   "metadata": {},
   "source": [
    "# Math Scores by Grade"
   ]
  },
  {
   "cell_type": "code",
   "execution_count": 40,
   "metadata": {},
   "outputs": [
    {
     "data": {
      "text/html": [
       "<div>\n",
       "<style scoped>\n",
       "    .dataframe tbody tr th:only-of-type {\n",
       "        vertical-align: middle;\n",
       "    }\n",
       "\n",
       "    .dataframe tbody tr th {\n",
       "        vertical-align: top;\n",
       "    }\n",
       "\n",
       "    .dataframe thead th {\n",
       "        text-align: right;\n",
       "    }\n",
       "</style>\n",
       "<table border=\"1\" class=\"dataframe\">\n",
       "  <thead>\n",
       "    <tr style=\"text-align: right;\">\n",
       "      <th></th>\n",
       "      <th>9th</th>\n",
       "      <th>10th</th>\n",
       "      <th>11th</th>\n",
       "      <th>12th</th>\n",
       "    </tr>\n",
       "    <tr>\n",
       "      <th>school</th>\n",
       "      <th></th>\n",
       "      <th></th>\n",
       "      <th></th>\n",
       "      <th></th>\n",
       "    </tr>\n",
       "  </thead>\n",
       "  <tbody>\n",
       "    <tr>\n",
       "      <th>Bailey High School</th>\n",
       "      <td>77.083676</td>\n",
       "      <td>76.996772</td>\n",
       "      <td>77.515588</td>\n",
       "      <td>76.492218</td>\n",
       "    </tr>\n",
       "    <tr>\n",
       "      <th>Cabrera High School</th>\n",
       "      <td>83.094697</td>\n",
       "      <td>83.154506</td>\n",
       "      <td>82.765560</td>\n",
       "      <td>83.277487</td>\n",
       "    </tr>\n",
       "    <tr>\n",
       "      <th>Figueroa High School</th>\n",
       "      <td>76.403037</td>\n",
       "      <td>76.539974</td>\n",
       "      <td>76.884344</td>\n",
       "      <td>77.151369</td>\n",
       "    </tr>\n",
       "    <tr>\n",
       "      <th>Ford High School</th>\n",
       "      <td>77.361345</td>\n",
       "      <td>77.672316</td>\n",
       "      <td>76.918058</td>\n",
       "      <td>76.179963</td>\n",
       "    </tr>\n",
       "    <tr>\n",
       "      <th>Griffin High School</th>\n",
       "      <td>82.044010</td>\n",
       "      <td>84.229064</td>\n",
       "      <td>83.842105</td>\n",
       "      <td>83.356164</td>\n",
       "    </tr>\n",
       "    <tr>\n",
       "      <th>Hernandez High School</th>\n",
       "      <td>77.438495</td>\n",
       "      <td>77.337408</td>\n",
       "      <td>77.136029</td>\n",
       "      <td>77.186567</td>\n",
       "    </tr>\n",
       "    <tr>\n",
       "      <th>Holden High School</th>\n",
       "      <td>83.787402</td>\n",
       "      <td>83.429825</td>\n",
       "      <td>85.000000</td>\n",
       "      <td>82.855422</td>\n",
       "    </tr>\n",
       "    <tr>\n",
       "      <th>Huang High School</th>\n",
       "      <td>77.027251</td>\n",
       "      <td>75.908735</td>\n",
       "      <td>76.446602</td>\n",
       "      <td>77.225641</td>\n",
       "    </tr>\n",
       "    <tr>\n",
       "      <th>Johnson High School</th>\n",
       "      <td>77.187857</td>\n",
       "      <td>76.691117</td>\n",
       "      <td>77.491653</td>\n",
       "      <td>76.863248</td>\n",
       "    </tr>\n",
       "    <tr>\n",
       "      <th>Pena High School</th>\n",
       "      <td>83.625455</td>\n",
       "      <td>83.372000</td>\n",
       "      <td>84.328125</td>\n",
       "      <td>84.121547</td>\n",
       "    </tr>\n",
       "    <tr>\n",
       "      <th>Rodriguez High School</th>\n",
       "      <td>76.859966</td>\n",
       "      <td>76.612500</td>\n",
       "      <td>76.395626</td>\n",
       "      <td>77.690748</td>\n",
       "    </tr>\n",
       "    <tr>\n",
       "      <th>Shelton High School</th>\n",
       "      <td>83.420755</td>\n",
       "      <td>82.917411</td>\n",
       "      <td>83.383495</td>\n",
       "      <td>83.778976</td>\n",
       "    </tr>\n",
       "    <tr>\n",
       "      <th>Thomas High School</th>\n",
       "      <td>83.590022</td>\n",
       "      <td>83.087886</td>\n",
       "      <td>83.498795</td>\n",
       "      <td>83.497041</td>\n",
       "    </tr>\n",
       "    <tr>\n",
       "      <th>Wilson High School</th>\n",
       "      <td>83.085578</td>\n",
       "      <td>83.724422</td>\n",
       "      <td>83.195326</td>\n",
       "      <td>83.035794</td>\n",
       "    </tr>\n",
       "    <tr>\n",
       "      <th>Wright High School</th>\n",
       "      <td>83.264706</td>\n",
       "      <td>84.010288</td>\n",
       "      <td>83.836782</td>\n",
       "      <td>83.644986</td>\n",
       "    </tr>\n",
       "  </tbody>\n",
       "</table>\n",
       "</div>"
      ],
      "text/plain": [
       "                             9th       10th       11th       12th\n",
       "school                                                           \n",
       "Bailey High School     77.083676  76.996772  77.515588  76.492218\n",
       "Cabrera High School    83.094697  83.154506  82.765560  83.277487\n",
       "Figueroa High School   76.403037  76.539974  76.884344  77.151369\n",
       "Ford High School       77.361345  77.672316  76.918058  76.179963\n",
       "Griffin High School    82.044010  84.229064  83.842105  83.356164\n",
       "Hernandez High School  77.438495  77.337408  77.136029  77.186567\n",
       "Holden High School     83.787402  83.429825  85.000000  82.855422\n",
       "Huang High School      77.027251  75.908735  76.446602  77.225641\n",
       "Johnson High School    77.187857  76.691117  77.491653  76.863248\n",
       "Pena High School       83.625455  83.372000  84.328125  84.121547\n",
       "Rodriguez High School  76.859966  76.612500  76.395626  77.690748\n",
       "Shelton High School    83.420755  82.917411  83.383495  83.778976\n",
       "Thomas High School     83.590022  83.087886  83.498795  83.497041\n",
       "Wilson High School     83.085578  83.724422  83.195326  83.035794\n",
       "Wright High School     83.264706  84.010288  83.836782  83.644986"
      ]
     },
     "execution_count": 40,
     "metadata": {},
     "output_type": "execute_result"
    }
   ],
   "source": [
    "math_score_grade"
   ]
  },
  {
   "cell_type": "code",
   "execution_count": 41,
   "metadata": {},
   "outputs": [],
   "source": [
    "# Getting the reading Scores by Grade\n",
    "read_nine = students.loc[students[\"grade\"] == \"9th\"].groupby(\"school\")[\"reading_score\"].mean()\n",
    "read_ten = students.loc[students[\"grade\"] == \"10th\"].groupby(\"school\")[\"reading_score\"].mean()\n",
    "read_eleven = students.loc[students[\"grade\"] == \"11th\"].groupby(\"school\")[\"reading_score\"].mean()\n",
    "read_twelve = students.loc[students[\"grade\"] == \"12th\"].groupby(\"school\")[\"reading_score\"].mean()"
   ]
  },
  {
   "cell_type": "code",
   "execution_count": 42,
   "metadata": {},
   "outputs": [],
   "source": [
    "# Create a DataFrame with above information and set the index to School\n",
    "read_score_grade = pd.DataFrame({\"9th\" : read_nine, \"10th\" : read_ten, \"11th\" : read_eleven,\n",
    "                            \"12th\" : read_twelve})\n",
    "read_score_grade = read_score_grade[[\"9th\", \"10th\", \"11th\", \"12th\"]]"
   ]
  },
  {
   "cell_type": "markdown",
   "metadata": {},
   "source": [
    "# Reading Scores by Grade"
   ]
  },
  {
   "cell_type": "code",
   "execution_count": 43,
   "metadata": {},
   "outputs": [
    {
     "data": {
      "text/html": [
       "<div>\n",
       "<style scoped>\n",
       "    .dataframe tbody tr th:only-of-type {\n",
       "        vertical-align: middle;\n",
       "    }\n",
       "\n",
       "    .dataframe tbody tr th {\n",
       "        vertical-align: top;\n",
       "    }\n",
       "\n",
       "    .dataframe thead th {\n",
       "        text-align: right;\n",
       "    }\n",
       "</style>\n",
       "<table border=\"1\" class=\"dataframe\">\n",
       "  <thead>\n",
       "    <tr style=\"text-align: right;\">\n",
       "      <th></th>\n",
       "      <th>9th</th>\n",
       "      <th>10th</th>\n",
       "      <th>11th</th>\n",
       "      <th>12th</th>\n",
       "    </tr>\n",
       "    <tr>\n",
       "      <th>school</th>\n",
       "      <th></th>\n",
       "      <th></th>\n",
       "      <th></th>\n",
       "      <th></th>\n",
       "    </tr>\n",
       "  </thead>\n",
       "  <tbody>\n",
       "    <tr>\n",
       "      <th>Bailey High School</th>\n",
       "      <td>81.303155</td>\n",
       "      <td>80.907183</td>\n",
       "      <td>80.945643</td>\n",
       "      <td>80.912451</td>\n",
       "    </tr>\n",
       "    <tr>\n",
       "      <th>Cabrera High School</th>\n",
       "      <td>83.676136</td>\n",
       "      <td>84.253219</td>\n",
       "      <td>83.788382</td>\n",
       "      <td>84.287958</td>\n",
       "    </tr>\n",
       "    <tr>\n",
       "      <th>Figueroa High School</th>\n",
       "      <td>81.198598</td>\n",
       "      <td>81.408912</td>\n",
       "      <td>80.640339</td>\n",
       "      <td>81.384863</td>\n",
       "    </tr>\n",
       "    <tr>\n",
       "      <th>Ford High School</th>\n",
       "      <td>80.632653</td>\n",
       "      <td>81.262712</td>\n",
       "      <td>80.403642</td>\n",
       "      <td>80.662338</td>\n",
       "    </tr>\n",
       "    <tr>\n",
       "      <th>Griffin High School</th>\n",
       "      <td>83.369193</td>\n",
       "      <td>83.706897</td>\n",
       "      <td>84.288089</td>\n",
       "      <td>84.013699</td>\n",
       "    </tr>\n",
       "    <tr>\n",
       "      <th>Hernandez High School</th>\n",
       "      <td>80.866860</td>\n",
       "      <td>80.660147</td>\n",
       "      <td>81.396140</td>\n",
       "      <td>80.857143</td>\n",
       "    </tr>\n",
       "    <tr>\n",
       "      <th>Holden High School</th>\n",
       "      <td>83.677165</td>\n",
       "      <td>83.324561</td>\n",
       "      <td>83.815534</td>\n",
       "      <td>84.698795</td>\n",
       "    </tr>\n",
       "    <tr>\n",
       "      <th>Huang High School</th>\n",
       "      <td>81.290284</td>\n",
       "      <td>81.512386</td>\n",
       "      <td>81.417476</td>\n",
       "      <td>80.305983</td>\n",
       "    </tr>\n",
       "    <tr>\n",
       "      <th>Johnson High School</th>\n",
       "      <td>81.260714</td>\n",
       "      <td>80.773431</td>\n",
       "      <td>80.616027</td>\n",
       "      <td>81.227564</td>\n",
       "    </tr>\n",
       "    <tr>\n",
       "      <th>Pena High School</th>\n",
       "      <td>83.807273</td>\n",
       "      <td>83.612000</td>\n",
       "      <td>84.335938</td>\n",
       "      <td>84.591160</td>\n",
       "    </tr>\n",
       "    <tr>\n",
       "      <th>Rodriguez High School</th>\n",
       "      <td>80.993127</td>\n",
       "      <td>80.629808</td>\n",
       "      <td>80.864811</td>\n",
       "      <td>80.376426</td>\n",
       "    </tr>\n",
       "    <tr>\n",
       "      <th>Shelton High School</th>\n",
       "      <td>84.122642</td>\n",
       "      <td>83.441964</td>\n",
       "      <td>84.373786</td>\n",
       "      <td>82.781671</td>\n",
       "    </tr>\n",
       "    <tr>\n",
       "      <th>Thomas High School</th>\n",
       "      <td>83.728850</td>\n",
       "      <td>84.254157</td>\n",
       "      <td>83.585542</td>\n",
       "      <td>83.831361</td>\n",
       "    </tr>\n",
       "    <tr>\n",
       "      <th>Wilson High School</th>\n",
       "      <td>83.939778</td>\n",
       "      <td>84.021452</td>\n",
       "      <td>83.764608</td>\n",
       "      <td>84.317673</td>\n",
       "    </tr>\n",
       "    <tr>\n",
       "      <th>Wright High School</th>\n",
       "      <td>83.833333</td>\n",
       "      <td>83.812757</td>\n",
       "      <td>84.156322</td>\n",
       "      <td>84.073171</td>\n",
       "    </tr>\n",
       "  </tbody>\n",
       "</table>\n",
       "</div>"
      ],
      "text/plain": [
       "                             9th       10th       11th       12th\n",
       "school                                                           \n",
       "Bailey High School     81.303155  80.907183  80.945643  80.912451\n",
       "Cabrera High School    83.676136  84.253219  83.788382  84.287958\n",
       "Figueroa High School   81.198598  81.408912  80.640339  81.384863\n",
       "Ford High School       80.632653  81.262712  80.403642  80.662338\n",
       "Griffin High School    83.369193  83.706897  84.288089  84.013699\n",
       "Hernandez High School  80.866860  80.660147  81.396140  80.857143\n",
       "Holden High School     83.677165  83.324561  83.815534  84.698795\n",
       "Huang High School      81.290284  81.512386  81.417476  80.305983\n",
       "Johnson High School    81.260714  80.773431  80.616027  81.227564\n",
       "Pena High School       83.807273  83.612000  84.335938  84.591160\n",
       "Rodriguez High School  80.993127  80.629808  80.864811  80.376426\n",
       "Shelton High School    84.122642  83.441964  84.373786  82.781671\n",
       "Thomas High School     83.728850  84.254157  83.585542  83.831361\n",
       "Wilson High School     83.939778  84.021452  83.764608  84.317673\n",
       "Wright High School     83.833333  83.812757  84.156322  84.073171"
      ]
     },
     "execution_count": 43,
     "metadata": {},
     "output_type": "execute_result"
    }
   ],
   "source": [
    "read_score_grade"
   ]
  },
  {
   "cell_type": "code",
   "execution_count": 44,
   "metadata": {},
   "outputs": [],
   "source": [
    "# Create the bins in which Data will be held\n",
    "# Bins are (0 < x <= $585), ($585 < x <= $615), ($615 < x <= $645), ($645 < x <= $675)\n",
    "bins = [0, 584.999, 614.999 , 644.999, 999999]\n",
    "group_bin = [\"< $585\", \"$585-$615\", \"$615-$645\",\"$645-$675\"]\n",
    "merged_df['spending_ranges'] = pd.cut(merged_df['budget']/merged_df['size'], bins, labels = group_bin)"
   ]
  },
  {
   "cell_type": "code",
   "execution_count": 45,
   "metadata": {},
   "outputs": [],
   "source": [
    "# Grouping by Spending Bins\n",
    "grp_by_spending = merged_df.groupby('spending_ranges')"
   ]
  },
  {
   "cell_type": "code",
   "execution_count": 46,
   "metadata": {},
   "outputs": [],
   "source": [
    "# Calculate: Average Math Score // Average Reading Score // % Passing Math // % Passing Reading // \n",
    "# Overall Passing Rate BY SCHOOL SPENDING\n",
    "ave_math = grp_by_spending['math_score'].mean()\n",
    "ave_reading = grp_by_spending['reading_score'].mean()\n",
    "pass_math = merged_df[merged_df['math_score'] >= 70].groupby('spending_ranges')['Student ID'].count() / grp_by_spending['Student ID'].count()*100\n",
    "pass_read = merged_df[merged_df['reading_score'] >= 70].groupby('spending_ranges')['Student ID'].count() / grp_by_spending['Student ID'].count()*100\n",
    "overall = (pass_math + pass_read) / 2"
   ]
  },
  {
   "cell_type": "code",
   "execution_count": 47,
   "metadata": {},
   "outputs": [],
   "source": [
    "# Create the DataFrame to gatter the required information\n",
    "score_by_spent = pd.DataFrame({\n",
    "                            \"Average Math Score\": ave_math,\n",
    "                            \"Average Reading Score\": ave_reading,\n",
    "                            '% Passing Math': pass_math,\n",
    "                            '% Passing Reading' : pass_read,\n",
    "                            \"Overall Passing Rate\": overall\n",
    "})"
   ]
  },
  {
   "cell_type": "code",
   "execution_count": 48,
   "metadata": {},
   "outputs": [],
   "source": [
    "# Re-Order the Data Frame to match the requested format\n",
    "score_by_spent = score_by_spent[[\n",
    "                            \"Average Math Score\",\n",
    "                            \"Average Reading Score\",\n",
    "                            '% Passing Math',\n",
    "                            '% Passing Reading',\n",
    "                            \"Overall Passing Rate\"\n",
    "]]"
   ]
  },
  {
   "cell_type": "code",
   "execution_count": 49,
   "metadata": {},
   "outputs": [],
   "source": [
    "# Change the Index name to the one mentioned on the Example\n",
    "score_by_spent.index.name = \"Spending Ranges (Per Student)\"\n",
    "score_by_spent = score_by_spent.reindex(group_bin)"
   ]
  },
  {
   "cell_type": "markdown",
   "metadata": {},
   "source": [
    "# Scores by School Spending"
   ]
  },
  {
   "cell_type": "code",
   "execution_count": 50,
   "metadata": {},
   "outputs": [
    {
     "data": {
      "text/html": [
       "<div>\n",
       "<style scoped>\n",
       "    .dataframe tbody tr th:only-of-type {\n",
       "        vertical-align: middle;\n",
       "    }\n",
       "\n",
       "    .dataframe tbody tr th {\n",
       "        vertical-align: top;\n",
       "    }\n",
       "\n",
       "    .dataframe thead th {\n",
       "        text-align: right;\n",
       "    }\n",
       "</style>\n",
       "<table border=\"1\" class=\"dataframe\">\n",
       "  <thead>\n",
       "    <tr style=\"text-align: right;\">\n",
       "      <th></th>\n",
       "      <th>Average Math Score</th>\n",
       "      <th>Average Reading Score</th>\n",
       "      <th>% Passing Math</th>\n",
       "      <th>% Passing Reading</th>\n",
       "      <th>Overall Passing Rate</th>\n",
       "    </tr>\n",
       "    <tr>\n",
       "      <th>Spending Ranges (Per Student)</th>\n",
       "      <th></th>\n",
       "      <th></th>\n",
       "      <th></th>\n",
       "      <th></th>\n",
       "      <th></th>\n",
       "    </tr>\n",
       "  </thead>\n",
       "  <tbody>\n",
       "    <tr>\n",
       "      <th>&lt; $585</th>\n",
       "      <td>83.363065</td>\n",
       "      <td>83.964039</td>\n",
       "      <td>93.702889</td>\n",
       "      <td>96.686558</td>\n",
       "      <td>95.194724</td>\n",
       "    </tr>\n",
       "    <tr>\n",
       "      <th>$585-$615</th>\n",
       "      <td>83.529196</td>\n",
       "      <td>83.838414</td>\n",
       "      <td>94.124128</td>\n",
       "      <td>95.886889</td>\n",
       "      <td>95.005509</td>\n",
       "    </tr>\n",
       "    <tr>\n",
       "      <th>$615-$645</th>\n",
       "      <td>78.061635</td>\n",
       "      <td>81.434088</td>\n",
       "      <td>71.400428</td>\n",
       "      <td>83.614770</td>\n",
       "      <td>77.507599</td>\n",
       "    </tr>\n",
       "    <tr>\n",
       "      <th>$645-$675</th>\n",
       "      <td>77.049297</td>\n",
       "      <td>81.005604</td>\n",
       "      <td>66.230813</td>\n",
       "      <td>81.109397</td>\n",
       "      <td>73.670105</td>\n",
       "    </tr>\n",
       "  </tbody>\n",
       "</table>\n",
       "</div>"
      ],
      "text/plain": [
       "                               Average Math Score  Average Reading Score  \\\n",
       "Spending Ranges (Per Student)                                              \n",
       "< $585                                  83.363065              83.964039   \n",
       "$585-$615                               83.529196              83.838414   \n",
       "$615-$645                               78.061635              81.434088   \n",
       "$645-$675                               77.049297              81.005604   \n",
       "\n",
       "                               % Passing Math  % Passing Reading  \\\n",
       "Spending Ranges (Per Student)                                      \n",
       "< $585                              93.702889          96.686558   \n",
       "$585-$615                           94.124128          95.886889   \n",
       "$615-$645                           71.400428          83.614770   \n",
       "$645-$675                           66.230813          81.109397   \n",
       "\n",
       "                               Overall Passing Rate  \n",
       "Spending Ranges (Per Student)                        \n",
       "< $585                                    95.194724  \n",
       "$585-$615                                 95.005509  \n",
       "$615-$645                                 77.507599  \n",
       "$645-$675                                 73.670105  "
      ]
     },
     "execution_count": 50,
     "metadata": {},
     "output_type": "execute_result"
    }
   ],
   "source": [
    "score_by_spent"
   ]
  },
  {
   "cell_type": "code",
   "execution_count": 51,
   "metadata": {},
   "outputs": [],
   "source": [
    "# Create the bins in which Data will be held\n",
    "# Bins are (0 < x < 999.99), (1000 < x < 1999.99), (2000 < x < 5000)\n",
    "bins = [0, 999, 1999, 999999]\n",
    "group_bin = [\"Small (<1000)\", \"Medium (1000-2000)\", \"Large (2000-5000)\"]\n",
    "merged_df['school_size'] = pd.cut(merged_df['size'], bins, labels = group_bin)"
   ]
  },
  {
   "cell_type": "code",
   "execution_count": 52,
   "metadata": {},
   "outputs": [],
   "source": [
    "# Group them by Spending again\n",
    "grp_by_size = merged_df.groupby('school_size')"
   ]
  },
  {
   "cell_type": "code",
   "execution_count": 53,
   "metadata": {},
   "outputs": [],
   "source": [
    "# Calculate: Average Math Score // Average Reading Score // % Passing Math // % Passing Reading // \n",
    "# Overall Passing Rate BY SCHOOL SIZE\n",
    "ave_math = grp_by_size['math_score'].mean()\n",
    "ave_reading = grp_by_size['reading_score'].mean()\n",
    "pass_math = merged_df[merged_df['math_score'] >= 70].groupby('school_size')['Student ID'].count() / grp_by_size['Student ID'].count()*100\n",
    "pass_read = merged_df[merged_df['reading_score'] >= 70].groupby('school_size')['Student ID'].count() / grp_by_size['Student ID'].count()*100\n",
    "overall = (pass_math + pass_read) / 2"
   ]
  },
  {
   "cell_type": "code",
   "execution_count": 54,
   "metadata": {},
   "outputs": [],
   "source": [
    "# Create the DataFrame to gatter the required information\n",
    "score_by_size = pd.DataFrame({\n",
    "                            \"Average Math Score\": ave_math,\n",
    "                            \"Average Reading Score\": ave_reading,\n",
    "                            '% Passing Math': pass_math,\n",
    "                            '% Passing Reading' : pass_read,\n",
    "                            \"Overall Passing Rate\": overall\n",
    "})"
   ]
  },
  {
   "cell_type": "code",
   "execution_count": 55,
   "metadata": {},
   "outputs": [],
   "source": [
    "# Re-Order the Data Frame to match the requested format\n",
    "score_by_size = score_by_size[[\n",
    "                            \"Average Math Score\",\n",
    "                            \"Average Reading Score\",\n",
    "                            '% Passing Math',\n",
    "                            '% Passing Reading',\n",
    "                            \"Overall Passing Rate\"\n",
    "]]"
   ]
  },
  {
   "cell_type": "code",
   "execution_count": 56,
   "metadata": {},
   "outputs": [],
   "source": [
    "# Change the Index name to the one mentioned on the Example\n",
    "score_by_size.index.name = \"School Size\"\n",
    "score_by_size = score_by_size.reindex(group_bin)"
   ]
  },
  {
   "cell_type": "markdown",
   "metadata": {},
   "source": [
    "# Scores by School Size"
   ]
  },
  {
   "cell_type": "code",
   "execution_count": 57,
   "metadata": {},
   "outputs": [
    {
     "data": {
      "text/html": [
       "<div>\n",
       "<style scoped>\n",
       "    .dataframe tbody tr th:only-of-type {\n",
       "        vertical-align: middle;\n",
       "    }\n",
       "\n",
       "    .dataframe tbody tr th {\n",
       "        vertical-align: top;\n",
       "    }\n",
       "\n",
       "    .dataframe thead th {\n",
       "        text-align: right;\n",
       "    }\n",
       "</style>\n",
       "<table border=\"1\" class=\"dataframe\">\n",
       "  <thead>\n",
       "    <tr style=\"text-align: right;\">\n",
       "      <th></th>\n",
       "      <th>Average Math Score</th>\n",
       "      <th>Average Reading Score</th>\n",
       "      <th>% Passing Math</th>\n",
       "      <th>% Passing Reading</th>\n",
       "      <th>Overall Passing Rate</th>\n",
       "    </tr>\n",
       "    <tr>\n",
       "      <th>School Size</th>\n",
       "      <th></th>\n",
       "      <th></th>\n",
       "      <th></th>\n",
       "      <th></th>\n",
       "      <th></th>\n",
       "    </tr>\n",
       "  </thead>\n",
       "  <tbody>\n",
       "    <tr>\n",
       "      <th>Small (&lt;1000)</th>\n",
       "      <td>83.828654</td>\n",
       "      <td>83.974082</td>\n",
       "      <td>93.952484</td>\n",
       "      <td>96.040317</td>\n",
       "      <td>94.996400</td>\n",
       "    </tr>\n",
       "    <tr>\n",
       "      <th>Medium (1000-2000)</th>\n",
       "      <td>83.372682</td>\n",
       "      <td>83.867989</td>\n",
       "      <td>93.616522</td>\n",
       "      <td>96.773058</td>\n",
       "      <td>95.194790</td>\n",
       "    </tr>\n",
       "    <tr>\n",
       "      <th>Large (2000-5000)</th>\n",
       "      <td>77.477597</td>\n",
       "      <td>81.198674</td>\n",
       "      <td>68.652380</td>\n",
       "      <td>82.125158</td>\n",
       "      <td>75.388769</td>\n",
       "    </tr>\n",
       "  </tbody>\n",
       "</table>\n",
       "</div>"
      ],
      "text/plain": [
       "                    Average Math Score  Average Reading Score  % Passing Math  \\\n",
       "School Size                                                                     \n",
       "Small (<1000)                83.828654              83.974082       93.952484   \n",
       "Medium (1000-2000)           83.372682              83.867989       93.616522   \n",
       "Large (2000-5000)            77.477597              81.198674       68.652380   \n",
       "\n",
       "                    % Passing Reading  Overall Passing Rate  \n",
       "School Size                                                  \n",
       "Small (<1000)               96.040317             94.996400  \n",
       "Medium (1000-2000)          96.773058             95.194790  \n",
       "Large (2000-5000)           82.125158             75.388769  "
      ]
     },
     "execution_count": 57,
     "metadata": {},
     "output_type": "execute_result"
    }
   ],
   "source": [
    "score_by_size"
   ]
  },
  {
   "cell_type": "code",
   "execution_count": 58,
   "metadata": {},
   "outputs": [],
   "source": [
    "# Repeat the breakdown, but group the schools based on school type (Charter vs. District)\n",
    "# Now group by Type\n",
    "grp_by_type = merged_df.groupby(\"type\")"
   ]
  },
  {
   "cell_type": "code",
   "execution_count": 59,
   "metadata": {},
   "outputs": [],
   "source": [
    "# Make the calcualtions but based on type\n",
    "ave_math = grp_by_type['math_score'].mean()\n",
    "ave_reading = grp_by_type['reading_score'].mean()\n",
    "pass_math = merged_df[merged_df['math_score'] >= 70].groupby('type')['Student ID'].count() / grp_by_type['Student ID'].count()*100\n",
    "pass_read = merged_df[merged_df['reading_score'] >= 70].groupby('type')['Student ID'].count() / grp_by_type['Student ID'].count()*100\n",
    "overall = (pass_math + pass_read) / 2"
   ]
  },
  {
   "cell_type": "code",
   "execution_count": 60,
   "metadata": {},
   "outputs": [],
   "source": [
    "# Create the DataFrame to gatter the required information\n",
    "score_by_type = pd.DataFrame({\n",
    "                            \"Average Math Score\": ave_math,\n",
    "                            \"Average Reading Score\": ave_reading,\n",
    "                            '% Passing Math': pass_math,\n",
    "                            '% Passing Reading' : pass_read,\n",
    "                            \"Overall Passing Rate\": overall\n",
    "})"
   ]
  },
  {
   "cell_type": "code",
   "execution_count": 61,
   "metadata": {},
   "outputs": [],
   "source": [
    "# Re-Order the Data Frame to match the requested format\n",
    "score_by_type = score_by_type[[\n",
    "                            \"Average Math Score\",\n",
    "                            \"Average Reading Score\",\n",
    "                            '% Passing Math',\n",
    "                            '% Passing Reading',\n",
    "                            \"Overall Passing Rate\"\n",
    "]]"
   ]
  },
  {
   "cell_type": "code",
   "execution_count": 62,
   "metadata": {},
   "outputs": [],
   "source": [
    "# Change the Index name to the one mentioned on the Example\n",
    "score_by_type.index.name = \"School Type\""
   ]
  },
  {
   "cell_type": "markdown",
   "metadata": {},
   "source": [
    "# Scores by School Type"
   ]
  },
  {
   "cell_type": "code",
   "execution_count": 63,
   "metadata": {},
   "outputs": [
    {
     "data": {
      "text/html": [
       "<div>\n",
       "<style scoped>\n",
       "    .dataframe tbody tr th:only-of-type {\n",
       "        vertical-align: middle;\n",
       "    }\n",
       "\n",
       "    .dataframe tbody tr th {\n",
       "        vertical-align: top;\n",
       "    }\n",
       "\n",
       "    .dataframe thead th {\n",
       "        text-align: right;\n",
       "    }\n",
       "</style>\n",
       "<table border=\"1\" class=\"dataframe\">\n",
       "  <thead>\n",
       "    <tr style=\"text-align: right;\">\n",
       "      <th></th>\n",
       "      <th>Average Math Score</th>\n",
       "      <th>Average Reading Score</th>\n",
       "      <th>% Passing Math</th>\n",
       "      <th>% Passing Reading</th>\n",
       "      <th>Overall Passing Rate</th>\n",
       "    </tr>\n",
       "    <tr>\n",
       "      <th>School Type</th>\n",
       "      <th></th>\n",
       "      <th></th>\n",
       "      <th></th>\n",
       "      <th></th>\n",
       "      <th></th>\n",
       "    </tr>\n",
       "  </thead>\n",
       "  <tbody>\n",
       "    <tr>\n",
       "      <th>Charter</th>\n",
       "      <td>83.406183</td>\n",
       "      <td>83.902821</td>\n",
       "      <td>93.701821</td>\n",
       "      <td>96.645891</td>\n",
       "      <td>95.173856</td>\n",
       "    </tr>\n",
       "    <tr>\n",
       "      <th>District</th>\n",
       "      <td>76.987026</td>\n",
       "      <td>80.962485</td>\n",
       "      <td>66.518387</td>\n",
       "      <td>80.905249</td>\n",
       "      <td>73.711818</td>\n",
       "    </tr>\n",
       "  </tbody>\n",
       "</table>\n",
       "</div>"
      ],
      "text/plain": [
       "             Average Math Score  Average Reading Score  % Passing Math  \\\n",
       "School Type                                                              \n",
       "Charter               83.406183              83.902821       93.701821   \n",
       "District              76.987026              80.962485       66.518387   \n",
       "\n",
       "             % Passing Reading  Overall Passing Rate  \n",
       "School Type                                           \n",
       "Charter              96.645891             95.173856  \n",
       "District             80.905249             73.711818  "
      ]
     },
     "execution_count": 63,
     "metadata": {},
     "output_type": "execute_result"
    }
   ],
   "source": [
    "score_by_type"
   ]
  },
  {
   "cell_type": "code",
   "execution_count": null,
   "metadata": {},
   "outputs": [],
   "source": []
  },
  {
   "cell_type": "code",
   "execution_count": null,
   "metadata": {},
   "outputs": [],
   "source": []
  }
 ],
 "metadata": {
  "kernelspec": {
   "display_name": "Python [conda env:PythonData]",
   "language": "python",
   "name": "conda-env-PythonData-py"
  },
  "language_info": {
   "codemirror_mode": {
    "name": "ipython",
    "version": 3
   },
   "file_extension": ".py",
   "mimetype": "text/x-python",
   "name": "python",
   "nbconvert_exporter": "python",
   "pygments_lexer": "ipython3",
   "version": "3.6.4"
  }
 },
 "nbformat": 4,
 "nbformat_minor": 2
}
